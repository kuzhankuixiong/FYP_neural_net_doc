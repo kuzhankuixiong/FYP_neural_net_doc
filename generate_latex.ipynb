{
 "cells": [
  {
   "cell_type": "code",
   "execution_count": 1,
   "metadata": {},
   "outputs": [
    {
     "data": {
      "text/plain": [
       "[<matplotlib.lines.Line2D at 0x17278bf7860>,\n",
       " <matplotlib.lines.Line2D at 0x17278bf7fd0>]"
      ]
     },
     "execution_count": 1,
     "metadata": {},
     "output_type": "execute_result"
    }
   ],
   "source": [
    "#%matplotlib notebook\n",
    "from brian2 import *\n",
    "\n",
    "taum = 20*ms\n",
    "taue = 5*ms\n",
    "taui = 10*ms\n",
    "Vt = -50*mV\n",
    "Vr = -60*mV\n",
    "El = -49*mV\n",
    "\n",
    "eqs = '''\n",
    "dv/dt  = (ge+gi-(v-El))/taum : volt (unless refractory)\n",
    "dge/dt = -ge/taue : volt\n",
    "dgi/dt = -gi/taui : volt\n",
    "'''\n",
    "\n",
    "P = NeuronGroup(4000, eqs, threshold='v>Vt', reset='v = Vr', refractory=5*ms,\n",
    "                method='exact')\n",
    "P.v = 'Vr + rand() * (Vt - Vr)'\n",
    "P.ge = 0*mV\n",
    "P.gi = 0*mV\n",
    "\n",
    "we = (60*0.27/10)*mV # excitatory synaptic weight (voltage)\n",
    "wi = (-20*4.5/10)*mV # inhibitory synaptic weight\n",
    "Ce = Synapses(P, P, on_pre='ge += we')\n",
    "Ci = Synapses(P, P, on_pre='gi += wi')\n",
    "Ce.connect('i<3200', p=0.02)\n",
    "Ci.connect('i>=3200', p=0.02)\n",
    "\n",
    "s_mon = SpikeMonitor(P)\n",
    "v_mon = StateMonitor(P, 'v', record=[0, 1])\n",
    "\n",
    "net = Network(P, Ce, Ci, s_mon, v_mon)\n",
    "\n",
    "net.run(1 * second)\n",
    "\n",
    "plot(s_mon.t/ms, s_mon.i, ',k')\n",
    "xlabel('Time (ms)')\n",
    "ylabel('Neuron index')\n",
    "figure()\n",
    "plot(v_mon.t/ms, v_mon.v.T/mV)"
   ]
  },
  {
   "cell_type": "code",
   "execution_count": 1,
   "metadata": {},
   "outputs": [
    {
     "name": "stdout",
     "output_type": "stream",
     "text": [
      "\n"
     ]
    }
   ],
   "source": [
    "from brian2 import *\n",
    "\n",
    "G1 = NeuronGroup(10, 'dv/dt = -v / (10*ms) : 1',\n",
    "                 threshold='v > 1', reset='v=0.', method='exact')\n",
    "G1.v = 1.2\n",
    "G2 = NeuronGroup(10, 'dv/dt = -v / (10*ms) : 1',\n",
    "                 threshold='v > 1', reset='v=0', method='exact')\n",
    "\n",
    "syn = Synapses(G1, G2, 'dw/dt = -w / (50*ms): 1 (event-driven)', on_pre='v += w')\n",
    "print(syn.equations)\n",
    "syn.connect('i == j', p=0.75)\n",
    "\n",
    "# Set the delays\n",
    "syn.delay = '1*ms + i*ms + 0.25*ms * randn()'\n",
    "# Set the initial values of the synaptic variable\n",
    "syn.w = 1\n",
    "\n",
    "mon = StateMonitor(G2, 'v', record=True)\n",
    "\n",
    "\n",
    "net2 = Network(syn, G1, G2, mon)\n",
    "net2.run(20*ms)\n",
    "\n",
    "# plot(mon.t/ms, mon.v.T)\n",
    "# xlabel('Time (ms)')\n",
    "# ylabel('v')\n",
    "\n"
   ]
  },
  {
   "cell_type": "code",
   "execution_count": 13,
   "metadata": {},
   "outputs": [
    {
     "name": "stderr",
     "output_type": "stream",
     "text": [
      "INFO       No numerical integration method specified for group 'neurongroup_2', using method 'exact' (took 0.05s). [brian2.stateupdaters.base.method_choice]\n",
      "INFO       No numerical integration method specified for group 'neurongroup_3', using method 'exact' (took 0.02s). [brian2.stateupdaters.base.method_choice]\n"
     ]
    }
   ],
   "source": [
    "from brian2 import *\n",
    "# Input Poisson spikes\n",
    "inp = PoissonGroup(1, rates=250*Hz)\n",
    "# First group G\n",
    "eqs_G = '''\n",
    "dv/dt = (g-v)/(50*ms) : 1\n",
    "dg/dt = -g/(10*ms) : 1\n",
    "allow_gspike : boolean\n",
    "'''\n",
    "G = NeuronGroup(1, eqs_G, threshold='v>1',\n",
    "                reset='v = 0; g = 0; allow_gspike = True;',\n",
    "                events={'gspike': 'g>1 and allow_gspike',\n",
    "                        'end_gspike': 'g<1 and not allow_gspike'})\n",
    "G.run_on_event('gspike', 'allow_gspike = False')\n",
    "G.run_on_event('end_gspike', 'allow_gspike = True')\n",
    "# Second group H\n",
    "eqs_H = '''\n",
    "dx/dt = -x/(10*ms) : 1\n",
    "dy/dt = -y/(10*ms) : 1\n",
    "'''\n",
    "H = NeuronGroup(1, eqs_H)\n",
    "# Synapses from input Poisson group to G\n",
    "Sin = Synapses(inp, G, on_pre='g += 0.5')\n",
    "Sin.connect()\n",
    "# Synapses from G to H\n",
    "S = Synapses(G, H,\n",
    "             on_pre={'pre': 'x += 1',\n",
    "                     'gpath': 'y += 1'},\n",
    "             on_event={'pre': 'spike',\n",
    "                       'gpath': 'gspike'})\n",
    "S.connect()\n",
    "# Monitors\n",
    "Mstate_v = StateMonitor(G, 'v', record=True)\n",
    "Mstate_g = StateMonitor(G, 'g', record=True)\n",
    "Mgspike = EventMonitor(G, 'gspike', 'g')\n",
    "Mspike = SpikeMonitor(G, 'v')\n",
    "MHstate_x = StateMonitor(H, 'x', record=True)\n",
    "MHstate_y = StateMonitor(H, 'y', record=True)\n",
    "# Initialise and run\n",
    "G.allow_gspike = True\n",
    "\n",
    "net = Network( G, inp, H, Sin, S, Mstate_v, Mstate_g, Mgspike, Mspike, MHstate_x, MHstate_y)\n",
    "net.run(500*ms)"
   ]
  },
  {
   "cell_type": "code",
   "execution_count": 23,
   "metadata": {},
   "outputs": [
    {
     "data": {
      "text/html": [
       "NeuronGroup \"neurongroup_2\" with 1 neurons.<br>\n",
       "<b>Model:</b><nr>\n",
       "\\begin{align*}\\frac{\\mathrm{d}v}{\\mathrm{d}t} &= \\frac{0.02 \\left(g - v\\right)}{ms} && \\text{(unit of $v$: $\\mathrm{rad}$)}\\\\\n",
       "\\frac{\\mathrm{d}g}{\\mathrm{d}t} &= - \\frac{0.1 g}{ms} && \\text{(unit of $g$: $\\mathrm{rad}$)}\\\\\n",
       "allow_{gspike} &&& \\text{(unit: $\\mathrm{rad}$)}\\end{align*}\n",
       "<b>Spiking behaviour:</b><ul style=\"list-style-type: none; margin-top: 0px;\">\n",
       "<li><i>Threshold condition: </i>\n",
       "<code>v>1</code></li>\n",
       "<li><i>Reset statement(s):</i>\n",
       "<code>v = 0; g = 0; allow_gspike = True;</code></li>\n",
       "</ul>\n",
       "<b>Event \"gspike\":</b><ul style=\"list-style-type: none; margin-top: 0px;\">\n",
       "<li><i>Event condition: </i>\n",
       "<code>g>1 and allow_gspike</code></li>\n",
       "<li><i>Executed statement(s):</i>\n",
       "<code>allow_gspike = False</code></li>\n",
       "</ul>\n",
       "<b>Event \"end_gspike\":</b><ul style=\"list-style-type: none; margin-top: 0px;\">\n",
       "<li><i>Event condition: </i>\n",
       "<code>g<1 and not allow_gspike</code></li>\n",
       "<li><i>Executed statement(s):</i>\n",
       "<code>allow_gspike = True</code></li>\n",
       "</ul>"
      ],
      "text/plain": [
       "NeuronGroup(clock=Clock(dt=100. * usecond, name='defaultclock'), when=start, order=0, name='neurongroup_2')"
      ]
     },
     "execution_count": 23,
     "metadata": {},
     "output_type": "execute_result"
    }
   ],
   "source": [
    "G"
   ]
  },
  {
   "cell_type": "code",
   "execution_count": 52,
   "metadata": {},
   "outputs": [],
   "source": [
    "import sympy\n",
    "a = syn._pathways[0].abstract_code\n",
    "l = a.split('\\n')\n",
    "l = [x.split('=') for x in l[:-1]] # exclude last element in l, because using split on '\\n', the last element in list in empty string"
   ]
  },
  {
   "cell_type": "code",
   "execution_count": 46,
   "metadata": {},
   "outputs": [
    {
     "data": {
      "text/plain": [
       "'_w = 1.0*w*exp(-0.02*(t - lastupdate)/ms)'"
      ]
     },
     "execution_count": 46,
     "metadata": {},
     "output_type": "execute_result"
    }
   ],
   "source": [
    "k = '='.join(l[0])\n",
    "k\n",
    "sympy.latex(str_to_sympy(a))"
   ]
  },
  {
   "cell_type": "code",
   "execution_count": 48,
   "metadata": {},
   "outputs": [
    {
     "name": "stdout",
     "output_type": "stream",
     "text": [
      "_w \n",
      " 1.0*w*exp(-0.02*(t - lastupdate)/ms)\n",
      "w \n",
      " _w\n",
      "v +\n",
      " w\n",
      "lastupdate \n",
      " t\n"
     ]
    },
    {
     "data": {
      "text/plain": [
       "[[None, None], [None, None], [None, None], [None, None]]"
      ]
     },
     "execution_count": 48,
     "metadata": {},
     "output_type": "execute_result"
    }
   ],
   "source": [
    "[[print(i) for i in x]   for x in l]"
   ]
  },
  {
   "cell_type": "code",
   "execution_count": 15,
   "metadata": {},
   "outputs": [
    {
     "data": {
      "text/latex": [
       "\\begin{align*}\\frac{\\mathrm{d}w}{\\mathrm{d}t} &= - \\frac{0.02 w}{ms} && \\text{(unit of $w$: $\\mathrm{rad}$, flags: event-driven)}\\end{align*}"
      ],
      "text/plain": [
       "dw/dt = -0.02*w/ms : radian (event-driven)\n"
      ]
     },
     "execution_count": 15,
     "metadata": {},
     "output_type": "execute_result"
    }
   ],
   "source": [
    "syn.event_driven"
   ]
  },
  {
   "cell_type": "code",
   "execution_count": 25,
   "metadata": {},
   "outputs": [
    {
     "data": {
      "text/latex": [
       "\\begin{align*}\\frac{\\mathrm{d}v}{\\mathrm{d}t} &= - \\frac{0.1 v}{ms} && \\text{(unit of $v$: $\\mathrm{rad}$)}\\end{align*}"
      ],
      "text/plain": [
       "dv/dt = -0.1*v/ms : radian\n"
      ]
     },
     "execution_count": 25,
     "metadata": {},
     "output_type": "execute_result"
    }
   ],
   "source": [
    "G1.equations"
   ]
  },
  {
   "cell_type": "code",
   "execution_count": 24,
   "metadata": {},
   "outputs": [
    {
     "name": "stdout",
     "output_type": "stream",
     "text": [
      "dv/dt = -v / (10*ms) : 1\n"
     ]
    }
   ],
   "source": [
    "print(G1.equations)"
   ]
  },
  {
   "cell_type": "code",
   "execution_count": 3,
   "metadata": {},
   "outputs": [],
   "source": [
    "import re\n",
    "import sympy\n",
    "import os.path\n",
    "import subprocess\n",
    "from graphviz import Digraph\n",
    "from brian2tools import brian_plot\n",
    "from matplotlib import pyplot as pp\n",
    "from brian2.parsing.sympytools import str_to_sympy"
   ]
  },
  {
   "cell_type": "code",
   "execution_count": 28,
   "metadata": {},
   "outputs": [],
   "source": [
    "def generate_ng_latex(NG):\n",
    "    '''\n",
    "    NG: NeuronGroup\n",
    "    \n",
    "    generate a string containing latex format presentation of input NeuronGroup\n",
    "    '''\n",
    "    NG_name =   '\\\\texttt{'+  NG.name.replace('_','\\\\_') + '}'\n",
    "    text = ['\\n', r'NeuronGroup \"%s\" with %d neurons.\\\\\\\\' % (NG_name, NG._N)]\n",
    "    text.append(r'\\textbf{Model:} \\\\ ')\n",
    "    text.append(sympy.latex(NG.equations))\n",
    "\n",
    "    def add_event_to_text(event):\n",
    "        if event=='spike':\n",
    "            event_header = 'Spiking behaviour'\n",
    "            event_condition = 'Threshold condition'\n",
    "            event_code = 'Reset statement(s)'\n",
    "        else:\n",
    "            event_header = 'Event \"%s\"' % event\n",
    "            event_condition = 'Event Condition'\n",
    "            event_code = 'Executed Statement(s)'\n",
    "        condition = NG.events[event]\n",
    "        text.append('\\\\textbf{ $ %s $ :}\\n\\\\begin{itemize}' % event_header)\n",
    "        text.append(r'\\item \\textit{%s:}' % event_condition)\n",
    "        text.append('\\\\begin{lstlisting}\\n' + str(condition) + '\\n\\\\end{lstlisting}')\n",
    "        statements = NG.event_codes.get(event, None)\n",
    "        if statements is not None:\n",
    "            text.append(r'\\item \\textit{%s:}' % event_code)\n",
    "            #if '\\n' in str(statements):\n",
    "             #   text.append('\\\\')\n",
    "            text.append('\\\\begin{lstlisting}\\n' + str(condition) + '\\n\\\\end{lstlisting}')\n",
    "        text.append('\\end{itemize}')\n",
    "\n",
    "    if 'spike' in NG.events:\n",
    "        add_event_to_text('spike')\n",
    "    for event in NG.events:\n",
    "        if event!='spike':\n",
    "            add_event_to_text(event)\n",
    "    text.append('\\\\pagebreak\\n')\n",
    "\n",
    "    return '\\n'.join(text)\n",
    "        "
   ]
  },
  {
   "cell_type": "code",
   "execution_count": 5,
   "metadata": {},
   "outputs": [],
   "source": [
    "def generate_network_graph(net):\n",
    "    '''\n",
    "    net: Network object in brian2\n",
    "    \n",
    "    generate a network graph\n",
    "    '''\n",
    "    g = Digraph('G', filename='synapse.gv')\n",
    "\n",
    "    g.attr('node', shape='doublecircle')\n",
    "\n",
    "    #print collect()\n",
    "    for obj in net.objects:\n",
    "        g.attr('node', shape='doublecircle')\n",
    "        #print(obj.name, obj.__class__.__name__) \n",
    "        if obj.__class__ is Synapses:\n",
    "            g.attr('node', shape='doublecircle')\n",
    "            #print ('    from=%s to=%s'%(obj.source.name, obj.target.name) )\n",
    "            g.edge(obj.source.name, obj.target.name, label='<<b><i>'+obj.name+'</i></b>>', nodesep='1',minlen='4' )\n",
    "        if obj.__class__ is SpikeMonitor:\n",
    "            g.attr('node', shape='diamond')\n",
    "            g.edge(obj.name, obj.source.name)\n",
    "        if obj.__class__ is StateMonitor:\n",
    "            g.attr('node', shape='pentagon')\n",
    "            g.edge(obj.name, obj.source.name)\n",
    "\n",
    "    path = g.render('net', 'tmp', format='png' )\n",
    "    \n",
    "    return path"
   ]
  },
  {
   "cell_type": "code",
   "execution_count": 6,
   "metadata": {},
   "outputs": [],
   "source": [
    "def generate_latex_synapse_on_pre(syn):\n",
    "    str_on_pre = ''\n",
    "    for x in syn._pathways:\n",
    "        eq = re.compile('[+*-]?=')\n",
    "        comment = re.compile('#.*')\n",
    "\n",
    "        l = x.code.split('\\n')\n",
    "        l = [x for x in l if x] # remove empty string element in list\n",
    "        l_eq = [eq.search(x).group() for x in l]\n",
    "        l = [eq.split(x,1) if eq.search(x) else x for x in l ] # split on equal sign, plus equal etc.\n",
    "        l_rh = [comment.sub('', x[-1]) for x in l] # remove comment\n",
    "        l_lh = [x[0] for x in l]\n",
    "        l_comment = [y.group() if y else '' for y in  [comment.search(x[-1]) for x in l]] #extract a comment list\n",
    "        \n",
    "        eq_latex = ''\n",
    "        for i, _ in enumerate(l_lh):\n",
    "            eq_latex += sympy.latex(str_to_sympy(l_lh[i])) + '&' + l_eq[i] + sympy.latex(str_to_sympy(l_rh[i])) + '\\\\text{' + l_comment[i] + '}'\n",
    "        eq_latex = '\\\\begin{align}\\n' + eq_latex + '\\\\end{align}\\n'\n",
    "        str_on_pre += eq_latex\n",
    "        \n",
    "        return str_on_pre"
   ]
  },
  {
   "cell_type": "code",
   "execution_count": 7,
   "metadata": {},
   "outputs": [],
   "source": [
    "def write_syn_latex(file, syn):\n",
    "    '''\n",
    "    write the Synapses latex code into file.\n",
    "    '''\n",
    "    syn_name = '\\\\texttt{'+  syn.name.replace('_','\\\\_') + '}'\n",
    "    file.write('\\nSynapse ' + syn_name + ':\\n')\n",
    "    if syn.event_driven is not None:\n",
    "        file.write(sympy.latex(syn.event_driven))\n",
    "    if bool(syn.summed_updaters):\n",
    "        for k in syn.summed_updaters:\n",
    "            file.write(sympy.latex(syn.summed_updaters[k]))\n",
    "    if len(syn.equations) != 0:\n",
    "        file.write(sympy.latex(syn.equations))\n",
    "    file.write(generate_latex_synapse_on_pre(syn))\n",
    "    file.write('\\n\\\\pagebreak\\n')\n",
    "    "
   ]
  },
  {
   "cell_type": "code",
   "execution_count": 8,
   "metadata": {},
   "outputs": [],
   "source": [
    "def write_state_mon_latex(file, mon):\n",
    "    '''\n",
    "    write StateMonitor and SpikeMonitor group into file\n",
    "    '''\n",
    "    pic_path = 'tmp/' + mon.name + '.png'\n",
    "    brian_plot(mon)\n",
    "    pp.savefig(pic_path)\n",
    "\n",
    "    mon_name = '\\\\texttt{'+  mon.name.replace('_','\\\\_') + '}'\n",
    "    file.write('\\n\\nStateMonitor ' + mon_name + ':\\\\\\\\\\n')\n",
    "\n",
    "    file.write('\\\\includegraphics[width=\\\\textwidth]{'+ pic_path + '} \\n\\\\pagebreak\\n')\n",
    "    "
   ]
  },
  {
   "cell_type": "code",
   "execution_count": 9,
   "metadata": {},
   "outputs": [],
   "source": [
    "def write_spike_mon_latex(file, mon):\n",
    "    '''\n",
    "    write StateMonitor and SpikeMonitor group into file\n",
    "    '''\n",
    "    pic_path = 'tmp/' + mon.name + '.png'\n",
    "    brian_plot(mon)\n",
    "    pp.savefig(pic_path)\n",
    "\n",
    "    mon_name = '\\\\texttt{'+  mon.name.replace('_','\\\\_') + '}'\n",
    "    file.write('\\n\\nSpikeMonitor ' + mon_name + ':\\\\\\\\\\n')\n",
    "\n",
    "    file.write('\\\\includegraphics[width=\\\\textwidth]{'+ pic_path + '} \\n\\\\pagebreak\\n')\n",
    "    "
   ]
  },
  {
   "cell_type": "code",
   "execution_count": 24,
   "metadata": {},
   "outputs": [],
   "source": [
    "def generate_tex_file(net,outputFile):\n",
    "    \n",
    "    file = open(outputFile,'w')\n",
    "    fileHead = '''\n",
    "    \\\\documentclass[10pt]{article}\\n\n",
    "    \\\\usepackage{amsmath}\\n\n",
    "    \\\\usepackage{listings}\\n\n",
    "    \\\\usepackage{graphicx}\\n\n",
    "    \\\\usepackage[T1]{fontenc}\\n\n",
    "    \\\\begin{document}\n",
    "    '''\n",
    "    fileEnd = '\\n\\\\end{document}'\n",
    "    \n",
    "    #network graph----------------\n",
    "    net_graph_path = generate_network_graph(net)\n",
    "    net_graph_latex_path = net_graph_path.replace('\\\\','/')\n",
    "    net_graph_text = '\\n\\n\\\\includegraphics[width=\\\\textwidth]{'+ net_graph_latex_path + '} \\n\\\\pagebreak\\n'\n",
    "    #----------------------------\n",
    "    \n",
    "    file.write(fileHead)\n",
    "    file.write(net_graph_text)\n",
    "    \n",
    "    #latex----------------\n",
    "    for obj in net.objects:\n",
    "        if obj.__class__ is NeuronGroup:\n",
    "            file.write(generate_ng_latex(obj))\n",
    "        if obj.__class__ is Synapses:\n",
    "            write_syn_latex(file, obj)\n",
    "        if obj.__class__ is StateMonitor:\n",
    "            write_state_mon_latex(file, obj)\n",
    "        if obj.__class__ is SpikeMonitor:\n",
    "            write_spike_mon_latex(file, obj)\n",
    "    #-----------------------------\n",
    "    \n",
    "    file.write(fileEnd)\n",
    "    file.close()"
   ]
  },
  {
   "cell_type": "code",
   "execution_count": 11,
   "metadata": {},
   "outputs": [],
   "source": [
    "def create_pdf(input_filename, output_filename):\n",
    "    process = subprocess.Popen([\n",
    "        'latex',   # Or maybe 'C:\\\\Program Files\\\\MikTex\\\\miktex\\\\bin\\\\latex.exe\n",
    "        '-output-format=pdf',\n",
    "        '-job-name=' + output_filename,\n",
    "        input_filename])\n",
    "    process.wait()"
   ]
  },
  {
   "cell_type": "code",
   "execution_count": 29,
   "metadata": {},
   "outputs": [
    {
     "data": {
      "image/png": "[encoded data removed]",
      "text/plain": [
       "<matplotlib.figure.Figure at 0x2828bf25710>"
      ]
     },
     "metadata": {
      "needs_background": "light"
     },
     "output_type": "display_data"
    }
   ],
   "source": [
    "# generate_tex_file(net,'tmp/net.tex')\n",
    "# create_pdf('tmp/net.tex','pdf/net')\n",
    "generate_tex_file(net,'tmp/net.tex')\n",
    "create_pdf('tmp/net.tex','pdf/net')"
   ]
  }
 ],
 "metadata": {
  "kernelspec": {
   "display_name": "Python 3",
   "language": "python",
   "name": "python3"
  },
  "language_info": {
   "codemirror_mode": {
    "name": "ipython",
    "version": 3
   },
   "file_extension": ".py",
   "mimetype": "text/x-python",
   "name": "python",
   "nbconvert_exporter": "python",
   "pygments_lexer": "ipython3",
   "version": "3.6.6"
  }
 },
 "nbformat": 4,
 "nbformat_minor": 2
}
