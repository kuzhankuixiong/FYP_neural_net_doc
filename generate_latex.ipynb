{
 "cells": [
  {
   "cell_type": "code",
   "execution_count": 2,
   "metadata": {},
   "outputs": [],
   "source": [
    "# Example: Rossant_et_al_2011bis\n",
    "# poissoninput\n",
    "from brian2 import *\n",
    "\n",
    "# neuron parameters\n",
    "theta = -55*mV\n",
    "El = -65*mV\n",
    "vmean = -65*mV\n",
    "taum = 5*ms\n",
    "taue = 3*ms\n",
    "taui = 10*ms\n",
    "eqs = Equations(\"\"\"\n",
    "                dv/dt  = (ge+gi-(v-El))/taum : volt\n",
    "                dge/dt = -ge/taue : volt\n",
    "                dgi/dt = -gi/taui : volt\n",
    "                \"\"\")\n",
    "\n",
    "# input parameters\n",
    "p = 15\n",
    "ne = 4000\n",
    "ni = 1000\n",
    "lambdac = 40*Hz\n",
    "lambdae = lambdai = 1*Hz\n",
    "\n",
    "# synapse parameters\n",
    "we = .5*mV/(taum/taue)**(taum/(taue-taum))\n",
    "wi = (vmean-El-lambdae*ne*we*taue)/(lambdae*ni*taui)\n",
    "\n",
    "# NeuronGroup definition\n",
    "group = NeuronGroup(N=2, model=eqs, reset='v = El',\n",
    "                    threshold='v>theta',\n",
    "                    refractory=5*ms, method='exact')\n",
    "group.v = El\n",
    "group.ge = group.gi = 0\n",
    "\n",
    "# independent E/I Poisson inputs\n",
    "p1 = PoissonInput(group[0:1], 'ge', N=ne, rate=lambdae, weight=we)\n",
    "p2 = PoissonInput(group[0:1], 'gi', N=ni, rate=lambdai, weight=wi)\n",
    "\n",
    "# independent E/I Poisson inputs + synchronous E events\n",
    "p3 = PoissonInput(group[1:], 'ge', N=ne, rate=lambdae-(p*1.0/ne)*lambdac, weight=we)\n",
    "p4 = PoissonInput(group[1:], 'gi', N=ni, rate=lambdai, weight=wi)\n",
    "p5 = PoissonInput(group[1:], 'ge', N=1, rate=lambdac, weight=p*we)\n",
    "\n",
    "# run the simulation\n",
    "M = SpikeMonitor(group)\n",
    "SM = StateMonitor(group, 'v', record=True)\n",
    "BrianLogger.log_level_info()\n",
    "\n",
    "net = Network(group, p1, p2, p3, p4, p5, M, SM)\n",
    "net.run(1*second)"
   ]
  },
  {
   "cell_type": "code",
   "execution_count": 23,
   "metadata": {},
   "outputs": [
    {
     "data": {
      "text/plain": [
       "2"
      ]
     },
     "execution_count": 23,
     "metadata": {},
     "output_type": "execute_result"
    }
   ],
   "source": [
    "group.stop"
   ]
  },
  {
   "cell_type": "code",
   "execution_count": 30,
   "metadata": {},
   "outputs": [
    {
     "data": {
      "text/plain": [
       "0"
      ]
     },
     "execution_count": 30,
     "metadata": {},
     "output_type": "execute_result"
    }
   ],
   "source": [
    "p1.order"
   ]
  },
  {
   "cell_type": "code",
   "execution_count": 11,
   "metadata": {},
   "outputs": [
    {
     "data": {
      "text/latex": [
       "$1.7930478454663967\\,\\mathrm{m}\\,\\mathrm{V}$"
      ],
      "text/plain": [
       "1.79304785 * mvolt"
      ]
     },
     "execution_count": 11,
     "metadata": {},
     "output_type": "execute_result"
    }
   ],
   "source": [
    "we"
   ]
  },
  {
   "cell_type": "code",
   "execution_count": 12,
   "metadata": {},
   "outputs": [
    {
     "data": {
      "text/latex": [
       "$1.0\\,\\mathrm{Hz}$"
      ],
      "text/plain": [
       "1. * hertz"
      ]
     },
     "execution_count": 12,
     "metadata": {},
     "output_type": "execute_result"
    }
   ],
   "source": [
    "p1.rate"
   ]
  },
  {
   "cell_type": "code",
   "execution_count": 10,
   "metadata": {},
   "outputs": [
    {
     "data": {
      "text/plain": [
       "'ge += poissoninput_binomial_5()*1.79304785 * mvolt'"
      ]
     },
     "execution_count": 10,
     "metadata": {},
     "output_type": "execute_result"
    }
   ],
   "source": [
    "p1.abstract_code"
   ]
  },
  {
   "cell_type": "code",
   "execution_count": 27,
   "metadata": {},
   "outputs": [
    {
     "data": {
      "text/plain": [
       "2"
      ]
     },
     "execution_count": 27,
     "metadata": {},
     "output_type": "execute_result"
    }
   ],
   "source": [
    "p3._group.stop"
   ]
  },
  {
   "cell_type": "code",
   "execution_count": 26,
   "metadata": {},
   "outputs": [
    {
     "data": {
      "text/plain": [
       "1"
      ]
     },
     "execution_count": 26,
     "metadata": {},
     "output_type": "execute_result"
    }
   ],
   "source": [
    "p3._group.start"
   ]
  },
  {
   "cell_type": "code",
   "execution_count": 28,
   "metadata": {},
   "outputs": [
    {
     "data": {
      "text/plain": [
       "'neurongroup_1_subgroup'"
      ]
     },
     "execution_count": 28,
     "metadata": {},
     "output_type": "execute_result"
    }
   ],
   "source": [
    "p1._group.name"
   ]
  },
  {
   "cell_type": "code",
   "execution_count": 3,
   "metadata": {},
   "outputs": [
    {
     "data": {
      "text/plain": [
       "['N',\n",
       " '_N',\n",
       " '__class__',\n",
       " '__delattr__',\n",
       " '__dict__',\n",
       " '__dir__',\n",
       " '__doc__',\n",
       " '__eq__',\n",
       " '__format__',\n",
       " '__ge__',\n",
       " '__getattribute__',\n",
       " '__gt__',\n",
       " '__hash__',\n",
       " '__init__',\n",
       " '__init_subclass__',\n",
       " '__instancefollower__',\n",
       " '__instances__',\n",
       " '__le__',\n",
       " '__lt__',\n",
       " '__module__',\n",
       " '__ne__',\n",
       " '__new__',\n",
       " '__reduce__',\n",
       " '__reduce_ex__',\n",
       " '__repr__',\n",
       " '__setattr__',\n",
       " '__sizeof__',\n",
       " '__str__',\n",
       " '__subclasshook__',\n",
       " '__weakref__',\n",
       " '_active',\n",
       " '_clock',\n",
       " '_code_objects',\n",
       " '_contained_objects',\n",
       " '_creation_stack',\n",
       " '_dependencies',\n",
       " '_full_creation_stack',\n",
       " '_group',\n",
       " '_id',\n",
       " '_name',\n",
       " '_network',\n",
       " '_rate',\n",
       " '_scope_current_key',\n",
       " '_scope_key',\n",
       " '_set_active',\n",
       " '_stored_dt',\n",
       " 'abstract_code',\n",
       " 'active',\n",
       " 'add_dependency',\n",
       " 'add_to_magic_network',\n",
       " 'after_run',\n",
       " 'assign_id',\n",
       " 'before_run',\n",
       " 'check_units',\n",
       " 'clock',\n",
       " 'code_objects',\n",
       " 'codeobj',\n",
       " 'codeobj_class',\n",
       " 'contained_objects',\n",
       " 'generate_empty_code',\n",
       " 'group',\n",
       " 'id',\n",
       " 'invalidates_magic_network',\n",
       " 'name',\n",
       " 'needed_variables',\n",
       " 'order',\n",
       " 'override_conditional_write',\n",
       " 'rate',\n",
       " 'run',\n",
       " 'template',\n",
       " 'template_kwds',\n",
       " 'update_abstract_code',\n",
       " 'updaters',\n",
       " 'user_code',\n",
       " 'variables',\n",
       " 'when']"
      ]
     },
     "execution_count": 3,
     "metadata": {},
     "output_type": "execute_result"
    }
   ],
   "source": [
    "dir(p1)"
   ]
  },
  {
   "cell_type": "code",
   "execution_count": 3,
   "metadata": {},
   "outputs": [
    {
     "name": "stderr",
     "output_type": "stream",
     "text": [
      "INFO       No numerical integration method specified for group 'spatialneuron', using method 'heun' (took 0.06s, trying other methods took 0.00s). [brian2.stateupdaters.base.method_choice]\n"
     ]
    },
    {
     "name": "stdout",
     "output_type": "stream",
     "text": [
      "Starting simulation at t=0. s for a duration of 0.5 s\n",
      "0.5 (100%) simulated in 1s\n"
     ]
    }
   ],
   "source": [
    "# Example: Fig5A\n",
    "# Threshold location\n",
    "from brian2 import *\n",
    "#from params import *\n",
    "\n",
    "# Passive parameters\n",
    "EL = -75*mV\n",
    "S = 7.85e-9*meter**2  # area (sphere of 50 um diameter)\n",
    "Cm = 0.75*uF/cm**2\n",
    "gL = 1. / (30000*ohm*cm**2)\n",
    "Ri = 150*ohm*cm\n",
    "\n",
    "# Na channels\n",
    "ENa = 60*mV\n",
    "ka = 6*mV\n",
    "va = -40*mV\n",
    "gNa_0 = gL * 2*S\n",
    "taum = 0.1*ms\n",
    "\n",
    "\n",
    "\n",
    "defaultclock.dt = 0.025*ms\n",
    "duration = 500*ms\n",
    "\n",
    "# Morphology\n",
    "morpho = Soma(50*um)  # chosen for a target Rm\n",
    "morpho.axon = Cylinder(diameter=1*um, length=300*um, n=300)\n",
    "\n",
    "# Input\n",
    "taux = 5*ms\n",
    "sigmax = 12*mV\n",
    "xx0 = 7*mV\n",
    "\n",
    "compartment = 40\n",
    "\n",
    "# Channels\n",
    "eqs = '''\n",
    "Im = gL * (EL - v) + gNa * m * (ENa - v) + gLx * (xx0 + xx) : amp/meter**2\n",
    "dm/dt = (minf - m) / taum : 1  # simplified Na channel\n",
    "minf = 1 / (1 + exp((va - v) / ka)) : 1\n",
    "gNa : siemens/meter**2\n",
    "gLx : siemens/meter**2\n",
    "dxx/dt = -xx / taux + sigmax * (2 / taux)**.5 *xi : volt\n",
    "'''\n",
    "\n",
    "neuron = SpatialNeuron(morphology=morpho, model=eqs, Cm=Cm, Ri=Ri,\n",
    "                       threshold='m>0.5', threshold_location=compartment,\n",
    "                       refractory=5*ms)\n",
    "neuron.v = EL\n",
    "neuron.gLx[0] = gL\n",
    "neuron.gNa[compartment] = gNa_0 / neuron.area[compartment]\n",
    "\n",
    "# Reset the entire neuron when there is a spike\n",
    "reset = Synapses(neuron, neuron, on_pre='v = EL')\n",
    "reset.connect('i == compartment')  # Connects the spike initiation compartment to all compartments\n",
    "\n",
    "# Monitors\n",
    "S = SpikeMonitor(neuron)\n",
    "M = StateMonitor(neuron, 'v', record=0)\n",
    "\n",
    "net = Network(neuron, reset, S, M)\n",
    "net.run(duration, report='text')"
   ]
  },
  {
   "cell_type": "code",
   "execution_count": 24,
   "metadata": {},
   "outputs": [
    {
     "data": {
      "text/plain": [
       "{'spike': Thresholder(clock=Clock(dt=25. * usecond, name='defaultclock'), when=thresholds, order=0, name='spatialneuron_thresholder')}"
      ]
     },
     "execution_count": 24,
     "metadata": {},
     "output_type": "execute_result"
    }
   ],
   "source": [
    "neuron.thresholder"
   ]
  },
  {
   "cell_type": "code",
   "execution_count": 4,
   "metadata": {},
   "outputs": [
    {
     "data": {
      "text/plain": [
       "['_N',\n",
       " '__class__',\n",
       " '__delattr__',\n",
       " '__dict__',\n",
       " '__dir__',\n",
       " '__doc__',\n",
       " '__eq__',\n",
       " '__format__',\n",
       " '__ge__',\n",
       " '__getattr__',\n",
       " '__getattribute__',\n",
       " '__getitem__',\n",
       " '__gt__',\n",
       " '__hash__',\n",
       " '__init__',\n",
       " '__init_subclass__',\n",
       " '__instancefollower__',\n",
       " '__instances__',\n",
       " '__le__',\n",
       " '__len__',\n",
       " '__lt__',\n",
       " '__module__',\n",
       " '__ne__',\n",
       " '__new__',\n",
       " '__reduce__',\n",
       " '__reduce_ex__',\n",
       " '__repr__',\n",
       " '__setattr__',\n",
       " '__sizeof__',\n",
       " '__str__',\n",
       " '__subclasshook__',\n",
       " '__weakref__',\n",
       " '_active',\n",
       " '_check_expression_scalar',\n",
       " '_check_for_invalid_states',\n",
       " '_check_for_invalid_values',\n",
       " '_clock',\n",
       " '_code_objects',\n",
       " '_contained_objects',\n",
       " '_create_variables',\n",
       " '_creation_stack',\n",
       " '_dependencies',\n",
       " '_enable_group_attributes',\n",
       " '_find_subtree_end',\n",
       " '_full_creation_stack',\n",
       " '_full_state',\n",
       " '_group_attribute_access_active',\n",
       " '_id',\n",
       " '_indices',\n",
       " '_linked_variables',\n",
       " '_name',\n",
       " '_network',\n",
       " '_refractory',\n",
       " '_repr_html_',\n",
       " '_resolve',\n",
       " '_resolve_external',\n",
       " '_restore_from_full_state',\n",
       " '_scope_current_key',\n",
       " '_scope_key',\n",
       " '_set_active',\n",
       " '_stored_states',\n",
       " 'active',\n",
       " 'add_attribute',\n",
       " 'add_dependency',\n",
       " 'add_to_magic_network',\n",
       " 'after_run',\n",
       " 'assign_id',\n",
       " 'before_run',\n",
       " 'check_variable_write',\n",
       " 'clock',\n",
       " 'code_objects',\n",
       " 'codeobj_class',\n",
       " 'contained_objects',\n",
       " 'custom_operation',\n",
       " 'diffusion_state_updater',\n",
       " 'equations',\n",
       " 'event_codes',\n",
       " 'events',\n",
       " 'flat_morphology',\n",
       " 'get_states',\n",
       " 'id',\n",
       " 'indices',\n",
       " 'invalidates_magic_network',\n",
       " 'method_choice',\n",
       " 'morphology',\n",
       " 'name',\n",
       " 'namespace',\n",
       " 'order',\n",
       " 'resetter',\n",
       " 'resolve_all',\n",
       " 'run',\n",
       " 'run_on_event',\n",
       " 'run_regularly',\n",
       " 'runner',\n",
       " 'set_event_schedule',\n",
       " 'set_states',\n",
       " 'spatialneuron_attribute',\n",
       " 'spatialneuron_segment',\n",
       " 'spikes',\n",
       " 'start',\n",
       " 'state',\n",
       " 'state_updater',\n",
       " 'stop',\n",
       " 'subexpression_updater',\n",
       " 'thresholder',\n",
       " 'updaters',\n",
       " 'user_equations',\n",
       " 'variables',\n",
       " 'when']"
      ]
     },
     "execution_count": 4,
     "metadata": {},
     "output_type": "execute_result"
    }
   ],
   "source": [
    "dir(neuron)"
   ]
  },
  {
   "cell_type": "code",
   "execution_count": 1,
   "metadata": {},
   "outputs": [],
   "source": [
    "# Example: Diesmann_et_al_1999\n",
    "from brian2 import *\n",
    "\n",
    "duration = 100*ms\n",
    "\n",
    "# Neuron model parameters\n",
    "Vr = -70*mV\n",
    "Vt = -55*mV\n",
    "taum = 10*ms\n",
    "taupsp = 0.325*ms\n",
    "weight = 4.86*mV\n",
    "# Neuron model\n",
    "eqs = Equations('''\n",
    "dV/dt = (-(V-Vr)+x)*(1./taum) : volt\n",
    "dx/dt = (-x+y)*(1./taupsp) : volt\n",
    "dy/dt = -y*(1./taupsp)+25.27*mV/ms+\n",
    "        (39.24*mV/ms**0.5)*xi : volt\n",
    "''')\n",
    "\n",
    "# Neuron groups\n",
    "n_groups = 10\n",
    "group_size = 100\n",
    "P = NeuronGroup(N=n_groups*group_size, model=eqs,\n",
    "                threshold='V>Vt', reset='V=Vr', refractory=1*ms,\n",
    "                method='euler')\n",
    "\n",
    "Pinput = SpikeGeneratorGroup(85, np.arange(85),\n",
    "                             np.random.randn(85)*1*ms + 50*ms)\n",
    "# The network structure\n",
    "S = Synapses(P, P, on_pre='y+=weight')\n",
    "S.connect(j='k for k in range((int(i/group_size)+1)*group_size, (int(i/group_size)+2)*group_size) '\n",
    "            'if i<N_pre-group_size')\n",
    "Sinput = Synapses(Pinput, P[:group_size], on_pre='y+=weight')\n",
    "Sinput.connect()\n",
    "\n",
    "# Record the spikes\n",
    "Mgp = SpikeMonitor(P)\n",
    "Minput = SpikeMonitor(Pinput)\n",
    "# Setup the network, and run it\n",
    "P.V = 'Vr + rand() * (Vt - Vr)'\n",
    "\n",
    "net = Network(P, Pinput, S, Sinput, Mgp, Minput)\n",
    "net.run(duration)"
   ]
  },
  {
   "cell_type": "code",
   "execution_count": 30,
   "metadata": {},
   "outputs": [
    {
     "data": {
      "text/plain": [
       "<bound method Mapping.keys of <brian2.core.variables.Variables object at 0x0000013D3D2B3C18>>"
      ]
     },
     "execution_count": 30,
     "metadata": {},
     "output_type": "execute_result"
    }
   ],
   "source": [
    "S.variables.keys"
   ]
  },
  {
   "cell_type": "code",
   "execution_count": 27,
   "metadata": {},
   "outputs": [
    {
     "data": {
      "text/plain": [
       "['__abstractmethods__',\n",
       " '__class__',\n",
       " '__contains__',\n",
       " '__delattr__',\n",
       " '__dict__',\n",
       " '__dir__',\n",
       " '__doc__',\n",
       " '__eq__',\n",
       " '__format__',\n",
       " '__ge__',\n",
       " '__getattribute__',\n",
       " '__getitem__',\n",
       " '__gt__',\n",
       " '__hash__',\n",
       " '__init__',\n",
       " '__init_subclass__',\n",
       " '__iter__',\n",
       " '__le__',\n",
       " '__len__',\n",
       " '__lt__',\n",
       " '__module__',\n",
       " '__ne__',\n",
       " '__new__',\n",
       " '__reduce__',\n",
       " '__reduce_ex__',\n",
       " '__repr__',\n",
       " '__reversed__',\n",
       " '__setattr__',\n",
       " '__sizeof__',\n",
       " '__slots__',\n",
       " '__str__',\n",
       " '__subclasshook__',\n",
       " '__weakref__',\n",
       " '_abc_cache',\n",
       " '_abc_negative_cache',\n",
       " '_abc_negative_cache_version',\n",
       " '_abc_registry',\n",
       " '_add_variable',\n",
       " '_variables',\n",
       " 'add_arange',\n",
       " 'add_array',\n",
       " 'add_arrays',\n",
       " 'add_auxiliary_variable',\n",
       " 'add_constant',\n",
       " 'add_dynamic_array',\n",
       " 'add_object',\n",
       " 'add_reference',\n",
       " 'add_references',\n",
       " 'add_referred_subexpression',\n",
       " 'add_subexpression',\n",
       " 'create_clock_variables',\n",
       " 'default_index',\n",
       " 'device',\n",
       " 'get',\n",
       " 'indices',\n",
       " 'items',\n",
       " 'keys',\n",
       " 'owner',\n",
       " 'values']"
      ]
     },
     "execution_count": 27,
     "metadata": {},
     "output_type": "execute_result"
    }
   ],
   "source": [
    "dir(S.variables)"
   ]
  },
  {
   "cell_type": "code",
   "execution_count": 1,
   "metadata": {},
   "outputs": [
    {
     "name": "stdout",
     "output_type": "stream",
     "text": [
      "Starting simulation at t=0. s for a duration of 20. s\n",
      "20.0 (100%) simulated in 2s\n"
     ]
    }
   ],
   "source": [
    "from brian2 import *\n",
    "\n",
    "################################################################################\n",
    "# PLASTICITY MODEL\n",
    "################################################################################\n",
    "\n",
    "#### Plasticity Parameters\n",
    "\n",
    "V_rest = -70.*mV        # resting potential\n",
    "V_thresh = -55.*mV      # spiking threshold\n",
    "Theta_low = V_rest      # depolarization threshold for plasticity\n",
    "x_reset = 1.            # spike trace reset value\n",
    "taux = 15.*ms           # spike trace time constant\n",
    "A_LTD = 1.5e-4          # depression amplitude\n",
    "A_LTP = 1.5e-2          # potentiation amplitude\n",
    "tau_lowpass1 = 40*ms    # timeconstant for low-pass filtered voltage\n",
    "tau_lowpass2 = 30*ms    # timeconstant for low-pass filtered voltage\n",
    "tau_homeo = 1000*ms     # homeostatic timeconstant\n",
    "v_target = 12*mV**2     # target depolarisation\n",
    "\n",
    "#### Plasticity Equations\n",
    "\n",
    "# equations executed at every timestepC\n",
    "Syn_model =   ('''\n",
    "            w_ampa:1                # synaptic weight (ampa synapse)\n",
    "            ''')\n",
    "\n",
    "# equations executed only when a presynaptic spike occurs\n",
    "Pre_eq = ('''\n",
    "            g_ampa_post += w_ampa*ampa_max_cond                                                               # increment synaptic conductance\n",
    "            A_LTD_u = A_LTD*(v_homeo**2/v_target)                                                             # metaplasticity\n",
    "            w_minus = A_LTD_u*(v_lowpass1_post/mV - Theta_low/mV)*int(v_lowpass1_post/mV - Theta_low/mV > 0)  # synaptic depression\n",
    "            w_ampa = clip(w_ampa-w_minus, 0, w_max)                                                           # hard bounds\n",
    "            ''' )\n",
    "\n",
    "# equations executed only when a postsynaptic spike occurs\n",
    "Post_eq = ('''\n",
    "            v_lowpass1 += 10*mV                                                                                        # mimics the depolarisation effect due to a spike\n",
    "            v_lowpass2 += 10*mV                                                                                        # mimics the depolarisation effect due to a spike\n",
    "            v_homeo += 0.1*mV                                                                                          # mimics the depolarisation effect due to a spike\n",
    "            w_plus = A_LTP*x_trace_pre*(v_lowpass2_post/mV - Theta_low/mV)*int(v_lowpass2_post/mV - Theta_low/mV > 0)  # synaptic potentiation\n",
    "            w_ampa = clip(w_ampa+w_plus, 0, w_max)                                                                     # hard bounds\n",
    "            ''' )\n",
    "\n",
    "################################################################################\n",
    "# I&F Parameters and equations\n",
    "################################################################################\n",
    "\n",
    "#### Neuron parameters\n",
    "\n",
    "gleak = 30.*nS                  # leak conductance\n",
    "C = 300.*pF                     # membrane capacitance\n",
    "tau_AMPA = 2.*ms                # AMPA synaptic timeconstant\n",
    "E_AMPA = 0.*mV                  # reversal potential AMPA\n",
    "\n",
    "ampa_max_cond = 5.e-8*siemens  # Ampa maximal conductance\n",
    "w_max = 1.                      # maximal ampa weight\n",
    "\n",
    "#### Neuron Equations\n",
    "\n",
    "# We connect 10 presynaptic neurons to 1 downstream neuron\n",
    "\n",
    "# downstream neuron\n",
    "eqs_neurons = '''\n",
    "dv/dt = (gleak*(V_rest-v) + I_ext + I_syn)/C: volt      # voltage\n",
    "dv_lowpass1/dt = (v-v_lowpass1)/tau_lowpass1 : volt     # low-pass filter of the voltage\n",
    "dv_lowpass2/dt = (v-v_lowpass2)/tau_lowpass2 : volt     # low-pass filter of the voltage\n",
    "dv_homeo/dt = (v-V_rest-v_homeo)/tau_homeo : volt       # low-pass filter of the voltage\n",
    "I_ext : amp                                             # external current\n",
    "I_syn = g_ampa*(E_AMPA-v): amp                          # synaptic current\n",
    "dg_ampa/dt = -g_ampa/tau_AMPA : siemens                 # synaptic conductance\n",
    "dx_trace/dt = -x_trace/taux :1                          # spike trace\n",
    "'''\n",
    "\n",
    "# input neurons\n",
    "eqs_inputs = '''\n",
    "dv/dt = gleak*(V_rest-v)/C: volt                        # voltage\n",
    "dx_trace/dt = -x_trace/taux :1                          # spike trace\n",
    "rates : Hz                                              # input rates\n",
    "selected_index : integer (shared)                       # active neuron\n",
    "'''\n",
    "\n",
    "################################################################################\n",
    "# Simulation\n",
    "################################################################################\n",
    "\n",
    "#### Parameters\n",
    "\n",
    "defaultclock.dt = 500.*us                        # timestep\n",
    "Nr_neurons = 1                                   # Number of downstream neurons\n",
    "Nr_inputs = 5                                    # Number of input neurons\n",
    "input_rate = 35*Hz                               # Rates\n",
    "init_weight = 0.5                                # initial synaptic weight\n",
    "final_t = 20.*second                             # end of simulation\n",
    "input_time = 100.*ms                             # duration of an input\n",
    "\n",
    "#### Create neuron objects\n",
    "\n",
    "Nrn_downstream = NeuronGroup(Nr_neurons, eqs_neurons, threshold='v>V_thresh',\n",
    "                             reset='v=V_rest;x_trace+=x_reset/(taux/ms)',\n",
    "                             method='euler')\n",
    "Nrns_input = NeuronGroup(Nr_inputs, eqs_inputs, threshold='rand()<rates*dt',\n",
    "                         reset='v=V_rest;x_trace+=x_reset/(taux/ms)',\n",
    "                         method='exact')\n",
    "\n",
    "#### create Synapses\n",
    "\n",
    "Syn = Synapses(Nrns_input, Nrn_downstream,\n",
    "               model=Syn_model,\n",
    "               on_pre=Pre_eq,\n",
    "               on_post=Post_eq\n",
    "               )\n",
    "\n",
    "Syn.connect(i=numpy.arange(Nr_inputs), j=0)\n",
    "\n",
    "#### Monitors and storage\n",
    "W_evolution = StateMonitor(Syn, 'w_ampa', record=True)\n",
    "\n",
    "#### Run\n",
    "\n",
    "# Initial values\n",
    "Nrn_downstream.v = V_rest\n",
    "Nrn_downstream.v_lowpass1 = V_rest\n",
    "Nrn_downstream.v_lowpass2 = V_rest\n",
    "Nrn_downstream.v_homeo = 0\n",
    "Nrn_downstream.I_ext = 0.*amp\n",
    "Nrn_downstream.x_trace = 0.\n",
    "Nrns_input.v = V_rest\n",
    "Nrns_input.x_trace = 0.\n",
    "Syn.w_ampa = init_weight\n",
    "\n",
    "# Switch on a different input every 100ms\n",
    "Nrns_input.run_regularly('''\n",
    "                         selected_index = int(floor(rand()*Nr_inputs))\n",
    "                         rates = input_rate * int(selected_index == i)  # All rates are zero except for the selected neuron\n",
    "                         ''', dt=input_time)\n",
    "\n",
    "net = Network(Nrn_downstream, Nrns_input, Syn, W_evolution)\n",
    "net.run(final_t, report='text')"
   ]
  },
  {
   "cell_type": "code",
   "execution_count": 19,
   "metadata": {},
   "outputs": [
    {
     "data": {
      "text/plain": [
       "CodeRunner(clock=Clock(dt=100. * msecond, name='neurongroup_1_run_regularly_clock'), when=start, order=0, name='neurongroup_1_run_regularly')"
      ]
     },
     "execution_count": 19,
     "metadata": {},
     "output_type": "execute_result"
    }
   ],
   "source": [
    "l =[]\n",
    "for obj in net.objects:\n",
    "    l.append(obj)\n",
    "    \n",
    "l[2]"
   ]
  },
  {
   "cell_type": "code",
   "execution_count": 21,
   "metadata": {},
   "outputs": [
    {
     "data": {
      "text/plain": [
       "'\\n                         selected_index = int(floor(rand()*Nr_inputs))\\n                         rates = input_rate * int(selected_index == i)  # All rates are zero except for the selected neuron\\n                         '"
      ]
     },
     "execution_count": 21,
     "metadata": {},
     "output_type": "execute_result"
    }
   ],
   "source": [
    "l[2].abstract_code"
   ]
  },
  {
   "cell_type": "code",
   "execution_count": 25,
   "metadata": {},
   "outputs": [
    {
     "ename": "AttributeError",
     "evalue": "'CodeRunner' object has no attribute 'dt'",
     "output_type": "error",
     "traceback": [
      "\u001b[1;31m---------------------------------------------------------------------------\u001b[0m",
      "\u001b[1;31mAttributeError\u001b[0m                            Traceback (most recent call last)",
      "\u001b[1;32m<ipython-input-25-64cb9e5002e1>\u001b[0m in \u001b[0;36m<module>\u001b[1;34m\u001b[0m\n\u001b[1;32m----> 1\u001b[1;33m \u001b[0ml\u001b[0m\u001b[1;33m[\u001b[0m\u001b[1;36m2\u001b[0m\u001b[1;33m]\u001b[0m\u001b[1;33m.\u001b[0m\u001b[0mdt\u001b[0m\u001b[1;33m\u001b[0m\u001b[0m\n\u001b[0m",
      "\u001b[1;31mAttributeError\u001b[0m: 'CodeRunner' object has no attribute 'dt'"
     ]
    }
   ],
   "source": [
    "l[2].dt"
   ]
  },
  {
   "cell_type": "code",
   "execution_count": 27,
   "metadata": {},
   "outputs": [
    {
     "data": {
      "text/plain": [
       "Clock(dt=100. * msecond, name='neurongroup_1_run_regularly_clock')"
      ]
     },
     "execution_count": 27,
     "metadata": {},
     "output_type": "execute_result"
    }
   ],
   "source": [
    "l[2].clock"
   ]
  },
  {
   "cell_type": "code",
   "execution_count": 20,
   "metadata": {},
   "outputs": [
    {
     "data": {
      "text/plain": [
       "['__class__',\n",
       " '__delattr__',\n",
       " '__dict__',\n",
       " '__dir__',\n",
       " '__doc__',\n",
       " '__eq__',\n",
       " '__format__',\n",
       " '__ge__',\n",
       " '__getattribute__',\n",
       " '__gt__',\n",
       " '__hash__',\n",
       " '__init__',\n",
       " '__init_subclass__',\n",
       " '__instancefollower__',\n",
       " '__instances__',\n",
       " '__le__',\n",
       " '__lt__',\n",
       " '__module__',\n",
       " '__ne__',\n",
       " '__new__',\n",
       " '__reduce__',\n",
       " '__reduce_ex__',\n",
       " '__repr__',\n",
       " '__setattr__',\n",
       " '__sizeof__',\n",
       " '__str__',\n",
       " '__subclasshook__',\n",
       " '__weakref__',\n",
       " '_active',\n",
       " '_clock',\n",
       " '_code_objects',\n",
       " '_contained_objects',\n",
       " '_creation_stack',\n",
       " '_dependencies',\n",
       " '_full_creation_stack',\n",
       " '_id',\n",
       " '_name',\n",
       " '_network',\n",
       " '_scope_current_key',\n",
       " '_scope_key',\n",
       " '_set_active',\n",
       " 'abstract_code',\n",
       " 'active',\n",
       " 'add_dependency',\n",
       " 'add_to_magic_network',\n",
       " 'after_run',\n",
       " 'assign_id',\n",
       " 'before_run',\n",
       " 'check_units',\n",
       " 'clock',\n",
       " 'code_objects',\n",
       " 'codeobj',\n",
       " 'codeobj_class',\n",
       " 'contained_objects',\n",
       " 'generate_empty_code',\n",
       " 'group',\n",
       " 'id',\n",
       " 'invalidates_magic_network',\n",
       " 'name',\n",
       " 'needed_variables',\n",
       " 'order',\n",
       " 'override_conditional_write',\n",
       " 'run',\n",
       " 'template',\n",
       " 'template_kwds',\n",
       " 'update_abstract_code',\n",
       " 'updaters',\n",
       " 'user_code',\n",
       " 'when']"
      ]
     },
     "execution_count": 20,
     "metadata": {},
     "output_type": "execute_result"
    }
   ],
   "source": [
    "dir(l[2])"
   ]
  },
  {
   "cell_type": "code",
   "execution_count": 17,
   "metadata": {},
   "outputs": [
    {
     "name": "stdout",
     "output_type": "stream",
     "text": [
      "NeuronGroup(clock=Clock(dt=0.5 * msecond, name='defaultclock'), when=start, order=0, name='neurongroup') \n",
      "\n",
      "NeuronGroup(clock=Clock(dt=0.5 * msecond, name='defaultclock'), when=start, order=0, name='neurongroup_1') \n",
      "\n",
      "CodeRunner(clock=Clock(dt=100. * msecond, name='neurongroup_1_run_regularly_clock'), when=start, order=0, name='neurongroup_1_run_regularly') \n",
      "\n",
      "<StateMonitor, recording ['w_ampa'] from synapses> \n",
      "\n",
      "Synapses(clock=Clock(dt=0.5 * msecond, name='defaultclock'), when=start, order=0, name='synapses') \n",
      "\n",
      "StateUpdater(clock=Clock(dt=0.5 * msecond, name='defaultclock'), when=groups, order=0, name='neurongroup_1_stateupdater') \n",
      "\n",
      "StateUpdater(clock=Clock(dt=0.5 * msecond, name='defaultclock'), when=groups, order=0, name='neurongroup_stateupdater') \n",
      "\n",
      "Thresholder(clock=Clock(dt=0.5 * msecond, name='defaultclock'), when=thresholds, order=0, name='neurongroup_1_thresholder') \n",
      "\n",
      "Thresholder(clock=Clock(dt=0.5 * msecond, name='defaultclock'), when=thresholds, order=0, name='neurongroup_thresholder') \n",
      "\n",
      "SynapticPathway(clock=Clock(dt=0.5 * msecond, name='defaultclock'), when=synapses, order=-1, name='synapses_pre') \n",
      "\n",
      "SynapticPathway(clock=Clock(dt=0.5 * msecond, name='defaultclock'), when=synapses, order=1, name='synapses_post') \n",
      "\n",
      "Resetter(clock=Clock(dt=0.5 * msecond, name='defaultclock'), when=resets, order=0, name='neurongroup_1_resetter') \n",
      "\n",
      "Resetter(clock=Clock(dt=0.5 * msecond, name='defaultclock'), when=resets, order=0, name='neurongroup_resetter') \n",
      "\n"
     ]
    }
   ],
   "source": [
    "for obj in net.objects:\n",
    "    print(obj,'\\n')"
   ]
  },
  {
   "cell_type": "code",
   "execution_count": 15,
   "metadata": {},
   "outputs": [
    {
     "data": {
      "text/plain": [
       "'\\n                         selected_index = int(floor(rand()*Nr_inputs))\\n                         rates = input_rate * int(selected_index == i)  # All rates are zero except for the selected neuron\\n                         '"
      ]
     },
     "execution_count": 15,
     "metadata": {},
     "output_type": "execute_result"
    }
   ],
   "source": [
    "Nrns_input.contained_objects[-1].abstract_code"
   ]
  },
  {
   "cell_type": "code",
   "execution_count": 16,
   "metadata": {},
   "outputs": [
    {
     "data": {
      "text/plain": [
       "<bound method NeuronGroup.before_run of NeuronGroup(clock=Clock(dt=0.5 * msecond, name='defaultclock'), when=start, order=0, name='neurongroup_1')>"
      ]
     },
     "execution_count": 16,
     "metadata": {},
     "output_type": "execute_result"
    }
   ],
   "source": [
    "Nrns_input.before_run"
   ]
  },
  {
   "cell_type": "code",
   "execution_count": 14,
   "metadata": {},
   "outputs": [
    {
     "data": {
      "text/plain": [
       "['_N',\n",
       " '__class__',\n",
       " '__delattr__',\n",
       " '__dict__',\n",
       " '__dir__',\n",
       " '__doc__',\n",
       " '__eq__',\n",
       " '__format__',\n",
       " '__ge__',\n",
       " '__getattr__',\n",
       " '__getattribute__',\n",
       " '__getitem__',\n",
       " '__gt__',\n",
       " '__hash__',\n",
       " '__init__',\n",
       " '__init_subclass__',\n",
       " '__instancefollower__',\n",
       " '__instances__',\n",
       " '__le__',\n",
       " '__len__',\n",
       " '__lt__',\n",
       " '__module__',\n",
       " '__ne__',\n",
       " '__new__',\n",
       " '__reduce__',\n",
       " '__reduce_ex__',\n",
       " '__repr__',\n",
       " '__setattr__',\n",
       " '__sizeof__',\n",
       " '__str__',\n",
       " '__subclasshook__',\n",
       " '__weakref__',\n",
       " '_active',\n",
       " '_check_expression_scalar',\n",
       " '_check_for_invalid_states',\n",
       " '_check_for_invalid_values',\n",
       " '_clock',\n",
       " '_code_objects',\n",
       " '_contained_objects',\n",
       " '_create_variables',\n",
       " '_creation_stack',\n",
       " '_dependencies',\n",
       " '_enable_group_attributes',\n",
       " '_full_creation_stack',\n",
       " '_full_state',\n",
       " '_group_attribute_access_active',\n",
       " '_id',\n",
       " '_indices',\n",
       " '_linked_variables',\n",
       " '_name',\n",
       " '_network',\n",
       " '_refractory',\n",
       " '_repr_html_',\n",
       " '_resolve',\n",
       " '_resolve_external',\n",
       " '_restore_from_full_state',\n",
       " '_scope_current_key',\n",
       " '_scope_key',\n",
       " '_set_active',\n",
       " '_stored_states',\n",
       " 'active',\n",
       " 'add_attribute',\n",
       " 'add_dependency',\n",
       " 'add_to_magic_network',\n",
       " 'after_run',\n",
       " 'assign_id',\n",
       " 'before_run',\n",
       " 'check_variable_write',\n",
       " 'clock',\n",
       " 'code_objects',\n",
       " 'codeobj_class',\n",
       " 'contained_objects',\n",
       " 'custom_operation',\n",
       " 'equations',\n",
       " 'event_codes',\n",
       " 'events',\n",
       " 'get_states',\n",
       " 'id',\n",
       " 'indices',\n",
       " 'invalidates_magic_network',\n",
       " 'method_choice',\n",
       " 'name',\n",
       " 'namespace',\n",
       " 'order',\n",
       " 'resetter',\n",
       " 'resolve_all',\n",
       " 'run',\n",
       " 'run_on_event',\n",
       " 'run_regularly',\n",
       " 'runner',\n",
       " 'set_event_schedule',\n",
       " 'set_states',\n",
       " 'spikes',\n",
       " 'start',\n",
       " 'state',\n",
       " 'state_updater',\n",
       " 'stop',\n",
       " 'subexpression_updater',\n",
       " 'thresholder',\n",
       " 'updaters',\n",
       " 'user_equations',\n",
       " 'variables',\n",
       " 'when']"
      ]
     },
     "execution_count": 14,
     "metadata": {},
     "output_type": "execute_result"
    }
   ],
   "source": [
    "dir(Nrns_input)"
   ]
  },
  {
   "cell_type": "code",
   "execution_count": 1,
   "metadata": {},
   "outputs": [
    {
     "name": "stdout",
     "output_type": "stream",
     "text": [
      "Starting simulation at t=0. s for a duration of 50. ms\n",
      "0.05 (100%) simulated in 2s\n",
      "Starting simulation at t=53. ms for a duration of 100. ms\n",
      "0.1 (100%) simulated in 5s\n"
     ]
    }
   ],
   "source": [
    "from brian2 import *\n",
    "defaultclock.dt = 0.01*ms\n",
    "morpho = Cylinder(x=[0, 10]*cm, diameter=2*238*um, n=1000, type='axon')\n",
    "\n",
    "El = 10.613* mV\n",
    "ENa = 115*mV\n",
    "EK = -12*mV\n",
    "gl = 0.3*msiemens/cm**2\n",
    "gNa0 = 120*msiemens/cm**2\n",
    "gK = 36*msiemens/cm**2\n",
    "\n",
    "# Typical equations\n",
    "eqs = '''\n",
    "# The same equations for the whole neuron, but possibly different parameter values\n",
    "# distributed transmembrane current\n",
    "Im = gl * (El-v) + gNa * m**3 * h * (ENa-v) + gK * n**4 * (EK-v) : amp/meter**2\n",
    "I : amp (point current) # applied current\n",
    "dm/dt = alpham * (1-m) - betam * m : 1\n",
    "dn/dt = alphan * (1-n) - betan * n : 1\n",
    "dh/dt = alphah * (1-h) - betah * h : 1\n",
    "alpham = (0.1/mV) * (-v+25*mV) / (exp((-v+25*mV) / (10*mV)) - 1)/ms : Hz\n",
    "betam = 4 * exp(-v/(18*mV))/ms : Hz\n",
    "alphah = 0.07 * exp(-v/(20*mV))/ms : Hz\n",
    "betah = 1/(exp((-v+30*mV) / (10*mV)) + 1)/ms : Hz\n",
    "alphan = (0.01/mV) * (-v+10*mV) / (exp((-v+10*mV) / (10*mV)) - 1)/ms : Hz\n",
    "betan = 0.125*exp(-v/(80*mV))/ms : Hz\n",
    "gNa : siemens/meter**2\n",
    "'''\n",
    "\n",
    "neuron = SpatialNeuron(morphology=morpho, model=eqs, Cm=1*uF/cm**2,\n",
    "                       Ri=35.4*ohm*cm, method=\"exponential_euler\")\n",
    "neuron.v = 0*mV\n",
    "neuron.h = 1\n",
    "neuron.m = 0\n",
    "neuron.n = .5\n",
    "neuron.I = 0\n",
    "neuron.gNa = gNa0\n",
    "neuron[5*cm:10*cm].gNa = 0*siemens/cm**2\n",
    "M = StateMonitor(neuron, 'v', record=True)\n",
    "\n",
    "# LFP recorder\n",
    "Ne = 5 # Number of electrodes\n",
    "sigma = 0.3*siemens/meter # Resistivity of extracellular field (0.3-0.4 S/m)\n",
    "lfp = NeuronGroup(Ne,model='''v : volt\n",
    "                              x : meter\n",
    "                              y : meter\n",
    "                              z : meter''')\n",
    "lfp.x = 7*cm # Off center (to be far from stimulating electrode)\n",
    "lfp.y = [1*mm, 2*mm, 4*mm, 8*mm, 16*mm]\n",
    "S = Synapses(neuron,lfp,model='''w : ohm*meter**2 (constant) # Weight in the LFP calculation\n",
    "                                 v_post = w*(Ic_pre-Im_pre) : volt (summed)''')\n",
    "S.summed_updaters['v_post'].when = 'after_groups'  # otherwise Ic has not yet been updated for the current time step.\n",
    "S.connect()\n",
    "S.w = 'area_pre/(4*pi*sigma)/((x_pre-x_post)**2+(y_pre-y_post)**2+(z_pre-z_post)**2)**.5'\n",
    "\n",
    "Mlfp = StateMonitor(lfp,'v',record=True)\n",
    "\n",
    "net2 = Network(neuron, M, lfp, S, Mlfp)\n",
    "net2.run(50*ms, report='text')\n",
    "neuron.I[0] = 1*uA  # current injection at one end\n",
    "net2.run(3*ms)\n",
    "neuron.I = 0*amp\n",
    "net2.run(100*ms, report='text')\n"
   ]
  },
  {
   "cell_type": "code",
   "execution_count": 53,
   "metadata": {},
   "outputs": [
    {
     "name": "stdout",
     "output_type": "stream",
     "text": [
      "v_post Clock(dt=10. * usecond, name='defaultclock') after_groups -1\n"
     ]
    }
   ],
   "source": [
    "for k, v in S.summed_updaters.items():\n",
    "    print(k,v.clock, v.when, v.order)"
   ]
  },
  {
   "cell_type": "code",
   "execution_count": 88,
   "metadata": {},
   "outputs": [
    {
     "data": {
      "text/plain": [
       "'10. us'"
      ]
     },
     "execution_count": 88,
     "metadata": {},
     "output_type": "execute_result"
    }
   ],
   "source": [
    "str(S.summed_updaters['v_post'].clock.dt)"
   ]
  },
  {
   "cell_type": "code",
   "execution_count": 36,
   "metadata": {},
   "outputs": [
    {
     "data": {
      "text/plain": [
       "['__class__',\n",
       " '__delattr__',\n",
       " '__dict__',\n",
       " '__dir__',\n",
       " '__doc__',\n",
       " '__eq__',\n",
       " '__format__',\n",
       " '__ge__',\n",
       " '__getattr__',\n",
       " '__getattribute__',\n",
       " '__getitem__',\n",
       " '__gt__',\n",
       " '__hash__',\n",
       " '__init__',\n",
       " '__init_subclass__',\n",
       " '__instancefollower__',\n",
       " '__instances__',\n",
       " '__le__',\n",
       " '__len__',\n",
       " '__lt__',\n",
       " '__module__',\n",
       " '__ne__',\n",
       " '__new__',\n",
       " '__reduce__',\n",
       " '__reduce_ex__',\n",
       " '__repr__',\n",
       " '__setattr__',\n",
       " '__sizeof__',\n",
       " '__str__',\n",
       " '__subclasshook__',\n",
       " '__weakref__',\n",
       " '_active',\n",
       " '_add_synapses_from_arrays',\n",
       " '_add_synapses_generator',\n",
       " '_add_updater',\n",
       " '_check_expression_scalar',\n",
       " '_check_for_invalid_states',\n",
       " '_check_for_invalid_values',\n",
       " '_check_parsed_synapses_generator',\n",
       " '_clock',\n",
       " '_code_objects',\n",
       " '_connect_called',\n",
       " '_contained_objects',\n",
       " '_create_variables',\n",
       " '_creation_stack',\n",
       " '_dependencies',\n",
       " '_enable_group_attributes',\n",
       " '_expression_index_dependence',\n",
       " '_full_creation_stack',\n",
       " '_full_state',\n",
       " '_get_delay',\n",
       " '_get_multisynaptic_indices',\n",
       " '_group_attribute_access_active',\n",
       " '_id',\n",
       " '_indices',\n",
       " '_name',\n",
       " '_network',\n",
       " '_pathways',\n",
       " '_registered_variables',\n",
       " '_resize',\n",
       " '_resolve',\n",
       " '_resolve_external',\n",
       " '_restore_from_full_state',\n",
       " '_scope_current_key',\n",
       " '_scope_key',\n",
       " '_set_active',\n",
       " '_set_delay',\n",
       " '_stored_states',\n",
       " '_synaptic_updaters',\n",
       " '_update_synapse_numbers',\n",
       " 'active',\n",
       " 'add_attribute',\n",
       " 'add_dependency',\n",
       " 'add_to_magic_network',\n",
       " 'after_run',\n",
       " 'assign_id',\n",
       " 'before_run',\n",
       " 'check_variable_write',\n",
       " 'clock',\n",
       " 'code_objects',\n",
       " 'codeobj_class',\n",
       " 'connect',\n",
       " 'contained_objects',\n",
       " 'custom_operation',\n",
       " 'delay',\n",
       " 'delay_',\n",
       " 'equations',\n",
       " 'event_driven',\n",
       " 'events',\n",
       " 'get_states',\n",
       " 'id',\n",
       " 'indices',\n",
       " 'invalidates_magic_network',\n",
       " 'multisynaptic_index',\n",
       " 'name',\n",
       " 'namespace',\n",
       " 'order',\n",
       " 'register_variable',\n",
       " 'resolve_all',\n",
       " 'run',\n",
       " 'run_regularly',\n",
       " 'runner',\n",
       " 'set_states',\n",
       " 'source',\n",
       " 'state',\n",
       " 'state_updater',\n",
       " 'subexpression_updater',\n",
       " 'summed_updaters',\n",
       " 'target',\n",
       " 'unregister_variable',\n",
       " 'updaters',\n",
       " 'variables',\n",
       " 'when']"
      ]
     },
     "execution_count": 36,
     "metadata": {},
     "output_type": "execute_result"
    }
   ],
   "source": [
    "dir(S)"
   ]
  },
  {
   "cell_type": "code",
   "execution_count": 1,
   "metadata": {},
   "outputs": [
    {
     "name": "stdout",
     "output_type": "stream",
     "text": [
      "Electrotonic length: 0.40824829 mm\n",
      "Starting simulation at t=0. s for a duration of 100. ms\n",
      "0.1 (100%) simulated in < 1s\n"
     ]
    }
   ],
   "source": [
    "from brian2 import *\n",
    "\n",
    "defaultclock.dt = 0.01*ms\n",
    "\n",
    "# Morphology\n",
    "diameter = 1*um\n",
    "length = 300*um\n",
    "Cm = 1*uF/cm**2\n",
    "Ri = 150*ohm*cm\n",
    "N = 200\n",
    "morpho = Cylinder(diameter=diameter, length=length, n=N)\n",
    "\n",
    "# Passive channels\n",
    "gL = 1e-4*siemens/cm**2\n",
    "EL = -70*mV\n",
    "eqs = '''\n",
    "Im = gL * (EL - v) : amp/meter**2\n",
    "I : amp (point current)\n",
    "'''\n",
    "\n",
    "neuron = SpatialNeuron(morphology=morpho, model=eqs, Cm=Cm, Ri=Ri,\n",
    "                       method='exponential_euler')\n",
    "neuron.v = EL\n",
    "\n",
    "la = neuron.space_constant[0]\n",
    "print(\"Electrotonic length: %s\" % la)\n",
    "\n",
    "neuron.I[0] = 0.02*nA # injecting at the left end\n",
    "net = Network(neuron)\n",
    "run(100*ms, report='text')"
   ]
  },
  {
   "cell_type": "code",
   "execution_count": 1,
   "metadata": {},
   "outputs": [],
   "source": [
    "from brian2 import *\n",
    "\n",
    "# Morphology\n",
    "morpho = Soma(30*um)\n",
    "morpho.axon = Cylinder(diameter=1*um, length=300*um, n=100)\n",
    "morpho.L = Cylinder(diameter=1*um, length=100*um, n=50)\n",
    "morpho.R = Cylinder(diameter=1*um, length=150*um, n=50)\n",
    "\n",
    "# Passive channels\n",
    "gL = 1e-4*siemens/cm**2\n",
    "EL = -70*mV\n",
    "eqs='''\n",
    "Im = gL * (EL - v) : amp/meter**2\n",
    "I : amp (point current)\n",
    "'''\n",
    "\n",
    "neuron = SpatialNeuron(morphology=morpho, model=eqs,\n",
    "                       Cm=1*uF/cm**2, Ri=100*ohm*cm, method='exponential_euler')\n",
    "neuron.v = EL\n",
    "neuron.I = 0*amp\n",
    "\n",
    "# Monitors\n",
    "mon_soma = StateMonitor(neuron, 'v', record=[0])\n",
    "mon_L = StateMonitor(neuron.L, 'v', record=True)\n",
    "mon_R = StateMonitor(neuron, 'v', record=morpho.R[75*um])\n",
    "\n",
    "net = Network(neuron, mon_L, mon_R, mon_soma)\n",
    "net.run(1*ms)"
   ]
  },
  {
   "cell_type": "code",
   "execution_count": 1,
   "metadata": {},
   "outputs": [],
   "source": [
    "from brian2 import *\n",
    "\n",
    "N = 25\n",
    "tau = 20*ms\n",
    "sigma = .015\n",
    "eqs_neurons = '''\n",
    "dx/dt = (1.1 - x) / tau + sigma * (2 / tau)**.5 * xi : 1 (unless refractory)\n",
    "'''\n",
    "neurons = NeuronGroup(N, model=eqs_neurons, threshold='x > 1', reset='x = 0',\n",
    "                      refractory=5*ms, method='euler')\n",
    "spikes = SpikeMonitor(neurons)\n",
    "\n",
    "net = Network(neurons, spikes)\n",
    "net.run(500*ms)"
   ]
  },
  {
   "cell_type": "code",
   "execution_count": 1,
   "metadata": {},
   "outputs": [
    {
     "name": "stdout",
     "output_type": "stream",
     "text": [
      "Starting simulation at t=0. s for a duration of 2. s\n",
      "2.0 (100%) simulated in < 1s\n"
     ]
    }
   ],
   "source": [
    "from brian2 import *\n",
    "\n",
    "eqs = '''\n",
    "dv/dt = -v/(10*ms) : volt\n",
    "dvt/dt = (10*mV-vt)/(15*ms) : volt\n",
    "'''\n",
    "\n",
    "reset = '''\n",
    "v = 0*mV\n",
    "vt += 3*mV\n",
    "'''\n",
    "\n",
    "IF = NeuronGroup(1, model=eqs, reset=reset, threshold='v>vt',\n",
    "                 method='exact')\n",
    "IF.vt = 10*mV\n",
    "PG = PoissonGroup(1, 500 * Hz)\n",
    "\n",
    "C = Synapses(PG, IF, on_pre='v += 3*mV')\n",
    "C.connect()\n",
    "\n",
    "Mv = StateMonitor(IF, 'v', record=True)\n",
    "Mvt = StateMonitor(IF, 'vt', record=True)\n",
    "# Record the value of v when the threshold is crossed\n",
    "M_crossings = SpikeMonitor(IF, variables='v')\n",
    "\n",
    "net = Network(IF,PG,C,Mv,Mvt)\n",
    "net.run(2*second, report='text')"
   ]
  },
  {
   "cell_type": "code",
   "execution_count": 2,
   "metadata": {},
   "outputs": [],
   "source": [
    "from brian2 import *\n",
    "\n",
    "num_neurons = 100\n",
    "duration = 2*second\n",
    "\n",
    "# Parameters\n",
    "area = 20000*umetre**2\n",
    "Cm = 1*ufarad*cm**-2 * area\n",
    "gl = 5e-5*siemens*cm**-2 * area\n",
    "El = -65*mV\n",
    "EK = -90*mV\n",
    "ENa = 50*mV\n",
    "g_na = 100*msiemens*cm**-2 * area\n",
    "g_kd = 30*msiemens*cm**-2 * area\n",
    "VT = -63*mV\n",
    "\n",
    "# The model\n",
    "eqs = Equations('''\n",
    "dv/dt = (gl*(El-v) - g_na*(m*m*m)*h*(v-ENa) - g_kd*(n*n*n*n)*(v-EK) + I)/Cm : volt\n",
    "dm/dt = 0.32*(mV**-1)*(13.*mV-v+VT)/\n",
    "    (exp((13.*mV-v+VT)/(4.*mV))-1.)/ms*(1-m)-0.28*(mV**-1)*(v-VT-40.*mV)/\n",
    "    (exp((v-VT-40.*mV)/(5.*mV))-1.)/ms*m : 1\n",
    "dn/dt = 0.032*(mV**-1)*(15.*mV-v+VT)/\n",
    "    (exp((15.*mV-v+VT)/(5.*mV))-1.)/ms*(1.-n)-.5*exp((10.*mV-v+VT)/(40.*mV))/ms*n : 1\n",
    "dh/dt = 0.128*exp((17.*mV-v+VT)/(18.*mV))/ms*(1.-h)-4./(1+exp((40.*mV-v+VT)/(5.*mV)))/ms*h : 1\n",
    "I : amp\n",
    "''')\n",
    "# Threshold and refractoriness are only used for spike counting\n",
    "group = NeuronGroup(num_neurons, eqs,\n",
    "                    threshold='v > -40*mV',\n",
    "                    refractory='v > -40*mV',\n",
    "                    method='exponential_euler')\n",
    "group.v = El\n",
    "group.I = '0.7*nA * i / num_neurons'\n",
    "\n",
    "monitor = SpikeMonitor(group)\n",
    "\n",
    "net = Network(group, monitor)\n",
    "net.run(2*second)"
   ]
  },
  {
   "cell_type": "code",
   "execution_count": 1,
   "metadata": {},
   "outputs": [
    {
     "name": "stdout",
     "output_type": "stream",
     "text": [
      "\n"
     ]
    }
   ],
   "source": [
    "from brian2 import *\n",
    "\n",
    "G1 = NeuronGroup(10, 'dv/dt = -v / (10*ms) : 1',\n",
    "                 threshold='v > 1', reset='v=0.', method='exact')\n",
    "G1.v = 1.2\n",
    "G2 = NeuronGroup(10, 'dv/dt = -v / (10*ms) : 1',\n",
    "                 threshold='v > 1', reset='v=0', method='exact')\n",
    "\n",
    "syn = Synapses(G1, G2, 'dw/dt = -w / (50*ms): 1 (event-driven)', on_pre='v += w')\n",
    "print(syn.equations)\n",
    "syn.connect('i == j', p=0.75)\n",
    "\n",
    "# Set the delays\n",
    "syn.delay = '1*ms + i*ms + 0.25*ms * randn()'\n",
    "# Set the initial values of the synaptic variable\n",
    "syn.w = 1\n",
    "\n",
    "mon = StateMonitor(G2, 'v', record=True)\n",
    "\n",
    "\n",
    "net2 = Network(syn, G1, G2, mon)\n",
    "net2.run(20*ms)\n",
    "\n",
    "# plot(mon.t/ms, mon.v.T)\n",
    "# xlabel('Time (ms)')\n",
    "# ylabel('v')\n",
    "\n"
   ]
  },
  {
   "cell_type": "code",
   "execution_count": 1,
   "metadata": {},
   "outputs": [
    {
     "name": "stderr",
     "output_type": "stream",
     "text": [
      "INFO       No numerical integration method specified for group 'neurongroup_1', using method 'exact' (took 0.10s). [brian2.stateupdaters.base.method_choice]\n",
      "INFO       No numerical integration method specified for group 'neurongroup', using method 'exact' (took 0.35s). [brian2.stateupdaters.base.method_choice]\n"
     ]
    }
   ],
   "source": [
    "from brian2 import *\n",
    "# Input Poisson spikes\n",
    "inp = PoissonGroup(1, rates=250*Hz)\n",
    "# First group G\n",
    "eqs_G = '''\n",
    "dv/dt = (g-v)/(50*ms) : 1\n",
    "dg/dt = -g/(10*ms) : 1\n",
    "allow_gspike : boolean\n",
    "'''\n",
    "G = NeuronGroup(1, eqs_G, threshold='v>1',\n",
    "                reset='v = 0; g = 0; allow_gspike = True;',\n",
    "                events={'gspike': 'g>1 and allow_gspike',\n",
    "                        'end_gspike': 'g<1 and not allow_gspike'})\n",
    "G.run_on_event('gspike', 'allow_gspike = False')\n",
    "G.run_on_event('end_gspike', 'allow_gspike = True')\n",
    "# Second group H\n",
    "eqs_H = '''\n",
    "dx/dt = -x/(10*ms) : 1\n",
    "dy/dt = -y/(10*ms) : 1\n",
    "'''\n",
    "H = NeuronGroup(1, eqs_H)\n",
    "# Synapses from input Poisson group to G\n",
    "Sin = Synapses(inp, G, on_pre='g += 0.5')\n",
    "Sin.connect()\n",
    "# Synapses from G to H\n",
    "S = Synapses(G, H,\n",
    "             on_pre={'pre': 'x += 1',\n",
    "                     'gpath': 'y += 1'},\n",
    "             on_event={'pre': 'spike',\n",
    "                       'gpath': 'gspike'})\n",
    "S.connect()\n",
    "\n",
    "Mstate_v = StateMonitor(G, 'v', record=True)\n",
    "Mstate_g = StateMonitor(G, 'g', record=True)\n",
    "Mgspike = EventMonitor(G, 'gspike', 'g')\n",
    "Mspike = SpikeMonitor(G, 'v')\n",
    "MHstate_x = StateMonitor(H, 'x', record=True)\n",
    "MHstate_y = StateMonitor(H, 'y', record=True)\n",
    "\n",
    "# Mstate = StateMonitor(G, ('v', 'g'), record=True)\n",
    "# Mgspike = EventMonitor(G, 'gspike', 'g')\n",
    "# Mspike = SpikeMonitor(G, 'v')\n",
    "# MHstate = StateMonitor(H, ('x', 'y'), record=True)\n",
    "\n",
    "\n",
    "\n",
    "\n",
    "# Initialise and run\n",
    "G.allow_gspike = True\n",
    "\n",
    "net3 = Network( G, inp, H, Sin, S, Mstate_v, Mstate_g, Mgspike, Mspike, MHstate_x,MHstate_y)\n",
    "# net3 = Network( G, inp, H, Sin, S, Mstate, Mgspike, Mspike, MHstate)\n",
    "net3.run(500*ms)"
   ]
  },
  {
   "cell_type": "code",
   "execution_count": 30,
   "metadata": {},
   "outputs": [
    {
     "data": {
      "text/plain": [
       "tuple"
      ]
     },
     "execution_count": 30,
     "metadata": {},
     "output_type": "execute_result"
    }
   ],
   "source": [
    "type(H.method_choice)"
   ]
  },
  {
   "cell_type": "code",
   "execution_count": 1,
   "metadata": {},
   "outputs": [],
   "source": [
    "from brian2 import *\n",
    "################################################################################\n",
    "# PLASTICITY MODEL\n",
    "################################################################################\n",
    "\n",
    "#### Plasticity Parameters\n",
    "\n",
    "V_rest = -70.*mV        # resting potential\n",
    "V_thresh = -50.*mV      # spiking threshold\n",
    "Theta_low = V_rest      # depolarization threshold for plasticity\n",
    "x_reset = 1.            # spike trace reset value\n",
    "taux = 15.*ms           # spike trace time constant\n",
    "A_LTD = 1.5e-4          # depression amplitude\n",
    "A_LTP = 1.5e-2          # potentiation amplitude\n",
    "tau_lowpass1 = 40*ms    # timeconstant for low-pass filtered voltage\n",
    "tau_lowpass2 = 30*ms    # timeconstant for low-pass filtered voltage\n",
    "\n",
    "\n",
    "\n",
    "#### Plasticity Equations\n",
    "\n",
    "\n",
    "# equations executed at every timestep\n",
    "Syn_model = '''\n",
    "            w_ampa:1                # synaptic weight (ampa synapse)\n",
    "            '''\n",
    "\n",
    "# equations executed only when a presynaptic spike occurs\n",
    "Pre_eq = '''\n",
    "         g_ampa_post += w_ampa*ampa_max_cond                                                             # increment synaptic conductance\n",
    "         w_minus = A_LTD*(v_lowpass1_post/mV - Theta_low/mV)*int(v_lowpass1_post/mV - Theta_low/mV > 0)  # synaptic depression\n",
    "         w_ampa = clip(w_ampa-w_minus,0,w_max)                                                           # hard bounds\n",
    "         '''\n",
    "\n",
    "# equations executed only when a postsynaptic spike occurs\n",
    "Post_eq = '''\n",
    "          v_lowpass1 += 10*mV                                                                                        # mimics the depolarisation by a spike\n",
    "          v_lowpass2 += 10*mV                                                                                        # mimics the depolarisation by a spike\n",
    "          w_plus = A_LTP*x_trace_pre*(v_lowpass2_post/mV - Theta_low/mV)*int(v_lowpass2_post/mV - Theta_low/mV > 0)  # synaptic potentiation\n",
    "          w_ampa = clip(w_ampa+w_plus,0,w_max)                                                                       # hard bounds\n",
    "          '''\n",
    "\n",
    "################################################################################\n",
    "# I&F Parameters and equations\n",
    "################################################################################\n",
    "\n",
    "#### Neuron parameters\n",
    "\n",
    "gleak = 30.*nS                  # leak conductance\n",
    "C = 300.*pF                     # membrane capacitance\n",
    "tau_AMPA = 2.*ms                # AMPA synaptic timeconstant\n",
    "E_AMPA = 0.*mV                  # reversal potential AMPA\n",
    "\n",
    "ampa_max_cond = 5.e-10*siemens  # Ampa maximal conductance\n",
    "w_max = 1.                      # maximal ampa weight\n",
    "\n",
    "\n",
    "#### Neuron Equations\n",
    "\n",
    "eqs_neurons = '''\n",
    "dv/dt = (gleak*(V_rest-v) + I_ext + I_syn)/C: volt      # voltage\n",
    "dv_lowpass1/dt = (v-v_lowpass1)/tau_lowpass1 : volt     # low-pass filter of the voltage\n",
    "dv_lowpass2/dt = (v-v_lowpass2)/tau_lowpass2 : volt     # low-pass filter of the voltage\n",
    "I_ext : amp                                             # external current\n",
    "I_syn = g_ampa*(E_AMPA-v): amp                          # synaptic current\n",
    "dg_ampa/dt = -g_ampa/tau_AMPA : siemens                 # synaptic conductance\n",
    "dx_trace/dt = -x_trace/taux :1                          # spike trace\n",
    "'''\n",
    "\n",
    "\n",
    "\n",
    "################################################################################\n",
    "# Simulation\n",
    "################################################################################\n",
    "\n",
    "#### Parameters\n",
    "\n",
    "defaultclock.dt = 100.*us                           # timestep\n",
    "Nr_neurons = 2                                      # Number of neurons\n",
    "rate_array = [1., 5., 10., 15., 20., 30., 50.]*Hz   # Rates\n",
    "init_weight = 0.5                                   # initial synaptic weight\n",
    "reps = 15                                           # Number of pairings\n",
    "\n",
    "#### Create neuron objects\n",
    "\n",
    "Nrns = NeuronGroup(Nr_neurons, eqs_neurons, threshold='v>V_thresh',\n",
    "                   reset='v=V_rest;x_trace+=x_reset/(taux/ms)', method='euler')#\n",
    "\n",
    "#### create Synapses\n",
    "\n",
    "Syn = Synapses(Nrns, Nrns,\n",
    "               model=Syn_model,\n",
    "               on_pre=Pre_eq,\n",
    "               on_post=Post_eq\n",
    "               )\n",
    "\n",
    "Syn.connect('i!=j')\n",
    "net = Network(Nrns, Syn)\n",
    "d = {'V_rest': V_rest,\n",
    "     'V_thresh': V_thresh,\n",
    "     'Theta_low': Theta_low,\n",
    "     'x_reset': x_reset,\n",
    "     'taux': taux,\n",
    "     'A_LTD': A_LTD,\n",
    "     'A_LTP': A_LTP,\n",
    "     'tau_lowpass1': tau_lowpass1,\n",
    "     'tau_lowpass2': tau_lowpass2,\n",
    "     'gleak': gleak,\n",
    "     'C': C,\n",
    "     'tau_AMPA': tau_AMPA,\n",
    "     'E_AMPA': E_AMPA,\n",
    "     'ampa_max_cond': ampa_max_cond,\n",
    "     'w_max': w_max,\n",
    "     'defaultclock.dt': defaultclock.dt,\n",
    "     'Nr_neurons': Nr_neurons,\n",
    "     'rate_array': rate_array,\n",
    "     'init_weight': init_weight,\n",
    "     'reps': reps\n",
    "    }"
   ]
  },
  {
   "cell_type": "code",
   "execution_count": 31,
   "metadata": {},
   "outputs": [],
   "source": [
    "import re\n",
    "import sympy\n",
    "import os.path\n",
    "import subprocess\n",
    "from graphviz import Digraph\n",
    "from brian2tools import brian_plot\n",
    "from matplotlib import pyplot as pp\n",
    "from brian2.parsing.sympytools import str_to_sympy\n",
    "from jinja2 import Environment, FileSystemLoader\n",
    "from brian2 import Synapses,NeuronGroup, SpatialNeuron, CodeRunner, Subgroup, PoissonInput\n",
    "from brian2.monitors import SpikeMonitor, StateMonitor, PopulationRateMonitor\n",
    "import warnings\n",
    "import matplotlib.pyplot as plt"
   ]
  },
  {
   "cell_type": "code",
   "execution_count": 32,
   "metadata": {},
   "outputs": [],
   "source": [
    "def replace_underscore(x):\n",
    "    return '\\\\texttt{'+  x.replace('_','\\\\_') + '}'"
   ]
  },
  {
   "cell_type": "code",
   "execution_count": 33,
   "metadata": {},
   "outputs": [],
   "source": [
    "def convert_code_to_latex_listing(code):\n",
    "    '''\n",
    "    convert abstract_code for example in CodeRunner and Synapse prepost to latex style code listing\n",
    "    '''\n",
    "    l = code.split('\\n')\n",
    "    l = [i.strip() for i in l]\n",
    "    begin_listing = '\\n\\\\begin{lstlisting}[language=Python,breaklines,showstringspaces=false]\\n'\n",
    "    eqs = begin_listing + '\\n\\n'.join(l) + '\\\\end{lstlisting}\\n'\n",
    "\n",
    "    return eqs"
   ]
  },
  {
   "cell_type": "code",
   "execution_count": 58,
   "metadata": {},
   "outputs": [],
   "source": [
    "def generate_PoissonInput_latex(PI):\n",
    "    \n",
    "    code = convert_code_to_latex_listing(PI.abstract_code)\n",
    "    \n",
    "    PI_string = []\n",
    "    PI_string.append('\\\\section{PoissonInput ' + replace_underscore(PI.name) + '}')\n",
    "    PI_string.append('\\\\begin{itemize}')\n",
    "    PI_string.append('\\\\item \\\\textbf{target:}')\n",
    "    PI_string.append(replace_underscore(PI._group.name))\n",
    "    PI_string.append('\\\\item \\\\textbf{target start and stop:}')\n",
    "    PI_string.append('start from ' + str(PI._group.start) + ', stops at ' + str(PI._group.stop))\n",
    "    PI_string.append('\\\\item \\\\textbf{Target Variable and Weight:}')\n",
    "    PI_string.append(code)\n",
    "    PI_string.append('\\\\item \\\\textbf{N:}')\n",
    "    PI_string.append(str(PI.N))\n",
    "    PI_string.append('\\\\item \\\\textbf{Rate:}')\n",
    "    PI_string.append('$'+PI.rate.in_best_unit()+'$')\n",
    "    PI_string.append('\\\\item \\\\textbf{When:}')\n",
    "    PI_string.append(PI.when) \n",
    "    PI_string.append('\\\\item \\\\textbf{Order:}')\n",
    "    PI_string.append(str(PI.order)) \n",
    "    PI_string.append('\\\\end{itemize}')\n",
    "    \n",
    "    return '\\n'.join(PI_string)"
   ]
  },
  {
   "cell_type": "code",
   "execution_count": 35,
   "metadata": {},
   "outputs": [],
   "source": [
    "def generate_CodeRunner_latex(CR):\n",
    "    '''\n",
    "    generate latex code for coderunner object created by 'run_regularly' function of NeuronGroup\n",
    "    '''\n",
    "    code = convert_code_to_latex_listing(CR.abstract_code)\n",
    "    dt = CR.clock.dt.in_best_unit()\n",
    "    \n",
    "    CR_string = []\n",
    "    CR_string.append('\\\\section{run\\\\texttt{\\\\_}regularly ' + replace_underscore(CR.name) + '}')\n",
    "    CR_string.append('\\\\begin{itemize}')\n",
    "    CR_string.append('\\\\item \\\\textbf{Abstract Code:}')\n",
    "    CR_string.append(code)\n",
    "    CR_string.append('\\\\item \\\\textbf{Clock dt:} $' + dt + '$')\n",
    "    CR_string.append('\\\\end{itemize}')\n",
    "    \n",
    "    return '\\n'.join(CR_string)"
   ]
  },
  {
   "cell_type": "code",
   "execution_count": 36,
   "metadata": {},
   "outputs": [],
   "source": [
    "def generate_SpatialNeuron_latex(NG):\n",
    "        pic_path = 'tmp/' + NG.name + '.png'\n",
    "        plt.close()\n",
    "        brian_plot(NG.morphology)\n",
    "        pp.savefig(pic_path)\n",
    "        NG_name = replace_underscore(NG.name)\n",
    "\n",
    "        text = []\n",
    "        text.append('\\\\item\\n\\\\textbf{Cm:}\\n$' + NG.Cm[0].in_best_unit()+'$')\n",
    "        text.append('\\\\item\\\\textbf{Ri:}\\n$' +   str(NG.Ri.variable.get_value()[0]))\n",
    "        text.append('\\:'+ NG.Ri.unit.latexname + '$')\n",
    "        text.append('\\\\item\\n\\\\textbf{Morphology of ') \n",
    "        text.append(NG_name) \n",
    "        text.append(':}\\\\\\\\\\n\\\\begin{center}\\n\\\\includegraphics[width=\\\\textwidth]{')\n",
    "        text.append(pic_path) \n",
    "        text.append('}\\n\\\\end{center}')\n",
    "        \n",
    "        return ''.join(text)"
   ]
  },
  {
   "cell_type": "code",
   "execution_count": 37,
   "metadata": {},
   "outputs": [],
   "source": [
    "def generate_ng_latex(NG):\n",
    "    '''\n",
    "    NG: NeuronGroup\n",
    "    \n",
    "    generate a string containing latex format presentation of input NeuronGroup\n",
    "    '''\n",
    "    NG_name = replace_underscore(NG.name)\n",
    "    text = ['\\n\\\\section{NeuronGroup %s}\\n' % (NG_name), r'NeuronGroup \"%s\" with %d neurons.\\\\\\\\' % (NG_name, NG._N)]\n",
    "    text.append('\\\\begin{itemize}')\n",
    "    text.append('\\\\item')\n",
    "    text.append(r'\\textbf{Model:} \\\\ ')\n",
    "    text.append(sympy.latex(NG.equations))\n",
    "\n",
    "    def add_event_to_text(event):\n",
    "        if event=='spike':\n",
    "            event_header = 'Spiking\\:Behaviour'\n",
    "            event_condition = 'Threshold condition'\n",
    "            event_code = 'Reset statement(s)'\n",
    "        else:\n",
    "            event_header = 'Event %s' % replace_underscore(event)\n",
    "            event_condition = 'Event Condition'\n",
    "            event_code = 'Executed Statement(s)'\n",
    "        condition = NG.events[event]\n",
    "        text.append('\\\\textbf{%s:}\\n\\\\begin{itemize}' % event_header)\n",
    "        text.append(r'\\item \\textit{%s:}' % event_condition)\n",
    "        text.append('\\\\begin{lstlisting}\\n' + str(condition) + '\\n\\\\end{lstlisting}')\n",
    "        statements = NG.event_codes.get(event, None)\n",
    "        if statements is not None:\n",
    "            text.append(r'\\item \\textit{%s:}' % event_code)\n",
    "            #if '\\n' in str(statements):\n",
    "             #   text.append('\\\\')\n",
    "            text.append('\\\\begin{lstlisting}\\n' + str(statements) + '\\n\\\\end{lstlisting}')\n",
    "        text.append('\\end{itemize}')\n",
    "\n",
    "    if 'spike' in NG.events:\n",
    "        text.append('\\\\item\\n')\n",
    "        add_event_to_text('spike')\n",
    "    for event in NG.events:\n",
    "        if event!='spike':\n",
    "            text.append('\\\\item\\n')\n",
    "            add_event_to_text(event)\n",
    "    \n",
    "\n",
    "    text.append('\\\\item')\n",
    "    text.append('\\\\textbf{Refractory:}\\\\begin{lstlisting}')\n",
    "    if isinstance(NG._refractory, bool):\n",
    "        if NG._refractory:\n",
    "            text.append('True')\n",
    "        else:\n",
    "            text.append('False')\n",
    "    elif isinstance(NG._refractory, Quantity):    \n",
    "        text.append(NG._refractory.in_best_unit())\n",
    "        \n",
    "    else:\n",
    "        text.append(NG._refractory)\n",
    "    text.append('\\\\end{lstlisting}')\n",
    "    \n",
    "    text.append('\\\\item')\n",
    "    text.append('\\\\textbf{Numerical Integration Method:}\\\\begin{lstlisting}')\n",
    "    if isinstance(NG.method_choice, tuple):\n",
    "        for x in NG.method_choice:\n",
    "            text.append(x+' ')\n",
    "    else:\n",
    "        text.append(NG.method_choice)\n",
    "    text.append('\\\\end{lstlisting}')\n",
    "    \n",
    "    if isinstance(NG,SpatialNeuron):\n",
    "        if NG.morphology is not None:\n",
    "            text.append(generate_SpatialNeuron_latex(NG))\n",
    "    text.append('\\\\end{itemize}')\n",
    "    \n",
    "    return '\\n'.join(text)\n",
    "        "
   ]
  },
  {
   "cell_type": "code",
   "execution_count": 64,
   "metadata": {},
   "outputs": [],
   "source": [
    "def generate_network_graph(net):\n",
    "    '''\n",
    "    net: Network object in brian2\n",
    "    \n",
    "    generate a network graph\n",
    "    '''\n",
    "    def link_Subgroup(SB):\n",
    "        if isinstance(SB, Subgroup):\n",
    "            g.edge(SB.name, SB.source.name)\n",
    "            g.node(SB.name, shape='circle')\n",
    "            g.node(SB.source.name, shape='doublecircle')\n",
    "\n",
    "    g = Digraph('G', filename='synapse.gv')\n",
    "    for obj in net.objects:\n",
    "        if isinstance(obj, Synapses):\n",
    "            g.edge(obj.source.name, obj.target.name, label='<<b><i>'+obj.name+'</i></b>>', nodesep='1',minlen='4' )\n",
    "            g.node(obj.source.name, shape='doublecircle')\n",
    "            g.node(obj.target.name, shape='doublecircle')\n",
    "            link_Subgroup(obj.source)\n",
    "            link_Subgroup(obj.target)\n",
    "        if isinstance(obj, SpikeMonitor):\n",
    "            g.edge(obj.name, obj.source.name)\n",
    "            g.node(obj.name, shape='Msquare')\n",
    "            g.node(obj.source.name, shape='doublecircle')\n",
    "            link_Subgroup(obj.source)\n",
    "        if isinstance(obj, StateMonitor):\n",
    "            g.edge(obj.name, obj.source.name)\n",
    "            g.node(obj.name, shape='box')\n",
    "            g.node(obj.source.name, shape='doublecircle')\n",
    "            link_Subgroup(obj.source)\n",
    "        if isinstance(obj, PoissonInput):\n",
    "            g.edge(obj.name, obj._group.name)\n",
    "            g.node(obj.name, shape='rarrow')\n",
    "            g.node(obj._group.name, shape='doublecircle')\n",
    "            link_Subgroup(obj._group)        \n",
    "        if type(obj) is CodeRunner:\n",
    "            g.edge(obj.name, obj.group.name)\n",
    "            g.node(obj.name, shape='invtriangle')\n",
    "            g.node(obj.group.name, shape='doublecircle')\n",
    "    path = g.render('net', 'tmp', format='png' )\n",
    "    \n",
    "    return '{'+path+'}'"
   ]
  },
  {
   "cell_type": "code",
   "execution_count": 39,
   "metadata": {},
   "outputs": [],
   "source": [
    "def generate_latex_synapse_on_pre(syn):\n",
    "    str_pre_post = ''\n",
    "    for x in syn._pathways:\n",
    "        eqs = convert_code_to_latex_listing(x.code)\n",
    "        if x.prepost == 'pre':\n",
    "            str_pre_post += '\\\\item\\n\\\\textbf{on pre:}\\n' + replace_underscore(x.name) + eqs\n",
    "        elif x.prepost == 'post':\n",
    "            str_pre_post += '\\\\item\\n\\\\textbf{on post:}\\n'+ replace_underscore(x.name) + eqs\n",
    "        str_pre_post += '\\\\bigskip'\n",
    "\n",
    "    return str_pre_post"
   ]
  },
  {
   "cell_type": "code",
   "execution_count": 40,
   "metadata": {},
   "outputs": [],
   "source": [
    "def generate_latex_synapse_on_event(syn):\n",
    "    str_events = []\n",
    "    if len(syn.events)>0:\n",
    "        str_events.append('\\n\\\\item\\\\textbf{on events:}')\n",
    "        str_events.append('\\n\\\\begin{lstlisting}[language=Python,breaklines,showstringspaces=false]\\n')\n",
    "        for k,v in syn.events.items():\n",
    "            str_events.append(k+': ')\n",
    "            str_events.append(v+'\\n')\n",
    "        str_events.append('\\\\end{lstlisting}')\n",
    "    return ''.join(str_events)"
   ]
  },
  {
   "cell_type": "code",
   "execution_count": 41,
   "metadata": {},
   "outputs": [],
   "source": [
    "def plot_synapse(syn):\n",
    "        pic_path = 'tmp/' + syn.name + '.png'\n",
    "        plt.close()\n",
    "        brian_plot(syn)\n",
    "        pp.savefig(pic_path)\n",
    "        NG_name = replace_underscore(syn.name)\n",
    "\n",
    "        return '\\\\item\\n\\\\textbf{graph of ' + NG_name + ':}\\\\\\\\\\n\\\\begin{center}\\n\\\\includegraphics[width=\\\\textwidth]{'+ pic_path + '}\\n\\\\end{center}'"
   ]
  },
  {
   "cell_type": "code",
   "execution_count": 42,
   "metadata": {},
   "outputs": [],
   "source": [
    "def generate_latex_synapse_summed_updateres(syn):\n",
    "    syn_string = []\n",
    "    if bool(syn.summed_updaters):\n",
    "        syn_string.append('\\\\item\\\\textbf{Summedupdater:}')\n",
    "        syn_string.append('\\\\begin{itemize}')\n",
    "        for key, vvalue in S.summed_updaters.items():\n",
    "            syn_string.append('\\\\item' + replace_underscore(k)+':')\n",
    "            syn_string.append('\\\\begin{itemize}')\n",
    "            syn_string.append('\\\\item clock dt: $' + v.clock.dt.in_best_unit() + '$' )\n",
    "            syn_string.append('\\\\item when: ' + replace_underscore(str(v.when)))\n",
    "            syn_string.append('\\\\item order: ' + replace_underscore(str(v.order)))\n",
    "            syn_string.append('\\\\end{itemize}')\n",
    "        syn_string.append('\\\\end{itemize}')\n",
    "        \n",
    "    return '\\n'.join(syn_string)"
   ]
  },
  {
   "cell_type": "code",
   "execution_count": 43,
   "metadata": {},
   "outputs": [],
   "source": [
    "def generate_syn_latex(syn):\n",
    "    '''\n",
    "    write the Synapses latex code into file.\n",
    "    '''\n",
    "    syn_name = '\\\\section{Synapse ' + replace_underscore(syn.name) + '}'\n",
    "    syn_string = []\n",
    "    \n",
    "    syn_string.append(syn_name)\n",
    "    syn_string.append('\\\\begin{itemize}')\n",
    "#     syn_string.append('This is a Synapse group with following attributes:\\\\\\\\')\n",
    "    if len(syn.equations) != 0:\n",
    "        syn_string.append('\\\\item\\\\textbf{Model:}')\n",
    "        syn_string.append(sympy.latex(syn.equations))\n",
    "    syn_string.append(generate_latex_synapse_on_pre(syn))\n",
    "    syn_string.append(generate_latex_synapse_on_event(syn))\n",
    "    syn_string.append(plot_synapse(syn))\n",
    "    syn_string.append(generate_latex_synapse_summed_updateres(syn))\n",
    "    syn_string.append('\\\\end{itemize}')\n",
    "        \n",
    "    return '\\n'.join(syn_string)"
   ]
  },
  {
   "cell_type": "code",
   "execution_count": 44,
   "metadata": {},
   "outputs": [],
   "source": [
    "def generate_state_mon_latex(mon):\n",
    "    '''\n",
    "    write StateMonitor and SpikeMonitor group into file\n",
    "    '''\n",
    "    \n",
    "    if len(mon.record_variables) != 1:\n",
    "        warnings.warn('''brian_plot only works for a StateMonitor that records a single variable. \n",
    "                         So brian_docs will ignore StateMonitors which record more than one variables. \n",
    "                         For documentation of those StateMonitors, it is suggested to put those \n",
    "                         variables in different StateMonitors, and ensure that each StateMonitor\n",
    "                         only has one variable''')\n",
    "        return ''\n",
    "    else:\n",
    "        pic_path = 'tmp/' + mon.name + '.png'\n",
    "        plt.close()\n",
    "        brian_plot(mon)\n",
    "        pp.savefig(pic_path)\n",
    "        mon_name = replace_underscore(mon.name)\n",
    "\n",
    "        return '\\n\\n\\\\section{StateMonitor ' + mon_name + ':}\\n\\\\begin{center}\\n\\\\includegraphics[width=\\\\textwidth]{'+ pic_path + '}\\n\\\\end{center}'\n",
    "    "
   ]
  },
  {
   "cell_type": "code",
   "execution_count": 45,
   "metadata": {},
   "outputs": [],
   "source": [
    "def generate_spike_mon_latex(mon):\n",
    "    '''\n",
    "    write StateMonitor and SpikeMonitor group into file\n",
    "    '''\n",
    "    pic_path = 'tmp/' + mon.name + '.png'\n",
    "    plt.close()\n",
    "    brian_plot(mon)\n",
    "    pp.savefig(pic_path)\n",
    "    mon_name = replace_underscore(mon.name)\n",
    "\n",
    "    return '\\n\\n\\\\section{SpikeMonitor ' + mon_name + ':}\\n\\\\begin{center}\\n\\\\includegraphics[width=\\\\textwidth]{'+ pic_path + '}\\n\\\\end{center}'\n",
    "    "
   ]
  },
  {
   "cell_type": "code",
   "execution_count": 46,
   "metadata": {},
   "outputs": [],
   "source": [
    "def generate_constant_list(constant_dict):\n",
    "    if not constant_dict:\n",
    "        return ['No\\\\;Constant\\\\;Is\\\\;Documented']\n",
    "    else:\n",
    "        constant_list = []\n",
    "        for key, value in d.items():\n",
    "            if key.count('_')<1:\n",
    "                key_str = key\n",
    "            elif key.count('_')==1:\n",
    "                l = key.split('_')\n",
    "                key_str = l[0]+'_{' + l[1] + '}'\n",
    "            else:\n",
    "                key_str = '\\\\textit{' + replace_underscore(key)\n",
    "\n",
    "            if isinstance(value, Quantity):\n",
    "                constant_list.append(key_str+':'+ value.in_best_unit(python_code=True))\n",
    "            else:\n",
    "                constant_list.append(key_str+':'+str(value))\n",
    "\n",
    "        return constant_list"
   ]
  },
  {
   "cell_type": "code",
   "execution_count": 47,
   "metadata": {},
   "outputs": [],
   "source": [
    "def generate_tex_file(net, outputFile, constant_dict=None):\n",
    "    file = open(outputFile,'w')\n",
    "    net_graph_path = generate_network_graph(net)\n",
    "    net_graph_latex_path = net_graph_path.replace('\\\\','/')\n",
    "    \n",
    "    net_list=[]\n",
    "    for obj in net.objects:\n",
    "        if isinstance(obj, NeuronGroup):\n",
    "            net_list.append(generate_ng_latex(obj))\n",
    "        if isinstance(obj, Synapses):\n",
    "            net_list.append(generate_syn_latex(obj))\n",
    "        if isinstance(obj, StateMonitor):\n",
    "            net_list.append(generate_state_mon_latex(obj))\n",
    "        if isinstance(obj, SpikeMonitor):\n",
    "            net_list.append(generate_spike_mon_latex(obj))\n",
    "        if isinstance(obj, PoissonInput):\n",
    "            net_list.append(generate_PoissonInput_latex(obj))\n",
    "        if type(obj) is CodeRunner:\n",
    "            net_list.append(generate_CodeRunner_latex(obj))\n",
    "    if constant_dict != None:\n",
    "        constant_list = generate_constant_list(constant_dict)\n",
    "    else:\n",
    "        constant_list = ['No\\\\;Constant\\\\;Is\\\\;Documented']\n",
    "    \n",
    "    file_loader = FileSystemLoader('templates')\n",
    "    env = Environment(loader=file_loader)\n",
    "    template = env.get_template('template.txt')\n",
    "    output = template.render(net_graph_latex_path=net_graph_latex_path, net_list=net_list, constant_list = constant_list)\n",
    "    \n",
    "    file.write(output)\n",
    "    file.close()"
   ]
  },
  {
   "cell_type": "code",
   "execution_count": 48,
   "metadata": {},
   "outputs": [],
   "source": [
    "def create_pdf(input_filename, output_filename):\n",
    "    process = subprocess.Popen([\n",
    "        'latex',   # Or maybe 'C:\\\\Program Files\\\\MikTex\\\\miktex\\\\bin\\\\latex.exe\n",
    "        '-output-format=pdf',\n",
    "        '-job-name=' + output_filename,\n",
    "        input_filename])\n",
    "    process.wait()"
   ]
  },
  {
   "cell_type": "code",
   "execution_count": 65,
   "metadata": {},
   "outputs": [
    {
     "data": {
      "image/png": "[encoded data removed]",
      "text/plain": [
       "<matplotlib.figure.Figure at 0x1fdf484b5c0>"
      ]
     },
     "metadata": {
      "needs_background": "light"
     },
     "output_type": "display_data"
    }
   ],
   "source": [
    "generate_tex_file(net,'tmp/net.tex')\n",
    "create_pdf('tmp/net.tex','pdf/net')"
   ]
  }
 ],
 "metadata": {
  "kernelspec": {
   "display_name": "Python 3",
   "language": "python",
   "name": "python3"
  },
  "language_info": {
   "codemirror_mode": {
    "name": "ipython",
    "version": 3
   },
   "file_extension": ".py",
   "mimetype": "text/x-python",
   "name": "python",
   "nbconvert_exporter": "python",
   "pygments_lexer": "ipython3",
   "version": "3.6.6"
  }
 },
 "nbformat": 4,
 "nbformat_minor": 2
}
