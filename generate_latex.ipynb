{
 "cells": [
  {
   "cell_type": "code",
   "execution_count": 1,
   "metadata": {},
   "outputs": [],
   "source": [
    "from brian2 import *\n",
    "\n",
    "# Morphology\n",
    "morpho = Soma(30*um)\n",
    "morpho.axon = Cylinder(diameter=1*um, length=300*um, n=100)\n",
    "morpho.L = Cylinder(diameter=1*um, length=100*um, n=50)\n",
    "morpho.R = Cylinder(diameter=1*um, length=150*um, n=50)\n",
    "\n",
    "# Passive channels\n",
    "gL = 1e-4*siemens/cm**2\n",
    "EL = -70*mV\n",
    "eqs='''\n",
    "Im = gL * (EL - v) : amp/meter**2\n",
    "I : amp (point current)\n",
    "'''\n",
    "\n",
    "neuron = SpatialNeuron(morphology=morpho, model=eqs,\n",
    "                       Cm=1*uF/cm**2, Ri=100*ohm*cm, method='exponential_euler')\n",
    "neuron.v = EL\n",
    "neuron.I = 0*amp\n",
    "\n",
    "# Monitors\n",
    "mon_soma = StateMonitor(neuron, 'v', record=[0])\n",
    "mon_L = StateMonitor(neuron.L, 'v', record=True)\n",
    "mon_R = StateMonitor(neuron, 'v', record=morpho.R[75*um])\n",
    "\n",
    "net = Network(neuron, mon_L, mon_R, mon_soma)\n",
    "net.run(1*ms)"
   ]
  },
  {
   "cell_type": "code",
   "execution_count": 3,
   "metadata": {},
   "outputs": [
    {
     "data": {
      "text/plain": [
       "brian2.spatialneuron.morphology.Soma"
      ]
     },
     "execution_count": 3,
     "metadata": {},
     "output_type": "execute_result"
    }
   ],
   "source": [
    "type(neuron.morphology)"
   ]
  },
  {
   "cell_type": "code",
   "execution_count": 1,
   "metadata": {},
   "outputs": [],
   "source": [
    "from brian2 import *\n",
    "\n",
    "N = 25\n",
    "tau = 20*ms\n",
    "sigma = .015\n",
    "eqs_neurons = '''\n",
    "dx/dt = (1.1 - x) / tau + sigma * (2 / tau)**.5 * xi : 1 (unless refractory)\n",
    "'''\n",
    "neurons = NeuronGroup(N, model=eqs_neurons, threshold='x > 1', reset='x = 0',\n",
    "                      refractory=5*ms, method='euler')\n",
    "spikes = SpikeMonitor(neurons)\n",
    "\n",
    "net = Network(neurons, spikes)\n",
    "net.run(500*ms)"
   ]
  },
  {
   "cell_type": "code",
   "execution_count": 24,
   "metadata": {},
   "outputs": [
    {
     "data": {
      "text/html": [
       "NeuronGroup \"neurongroup\" with 25 neurons.<br>\n",
       "<b>Model:</b><nr>\n",
       "\\begin{align*}\\frac{\\mathrm{d}x}{\\mathrm{d}t} &= \\left(1.4142135623731 \\sigma \\xi \\left(\\frac{1}{\\tau}\\right)^{0.5} + \\frac{- x + 1.1}{\\tau}\\right) \\operatorname{int_{}}{\\left (not_{refractory} \\right )} && \\text{(unit of $x$: $\\mathrm{rad}$, flags: unless refractory)}\\\\\n",
       "not_{refractory} &&& \\text{(unit: $\\mathrm{rad}$)}\\\\\n",
       "lastspike &&& \\text{(unit: $\\mathrm{s}$)}\\end{align*}\n",
       "<b>Spiking behaviour:</b><ul style=\"list-style-type: none; margin-top: 0px;\">\n",
       "<li><i>Threshold condition: </i>\n",
       "<code>x > 1</code></li>\n",
       "<li><i>Reset statement(s):</i>\n",
       "<code>x = 0</code></li>\n",
       "</ul>"
      ],
      "text/plain": [
       "NeuronGroup(clock=Clock(dt=100. * usecond, name='defaultclock'), when=start, order=0, name='neurongroup')"
      ]
     },
     "execution_count": 24,
     "metadata": {},
     "output_type": "execute_result"
    }
   ],
   "source": [
    "neurons"
   ]
  },
  {
   "cell_type": "code",
   "execution_count": 1,
   "metadata": {},
   "outputs": [
    {
     "name": "stdout",
     "output_type": "stream",
     "text": [
      "Starting simulation at t=0. s for a duration of 2. s\n",
      "2.0 (100%) simulated in < 1s\n"
     ]
    }
   ],
   "source": [
    "from brian2 import *\n",
    "\n",
    "eqs = '''\n",
    "dv/dt = -v/(10*ms) : volt\n",
    "dvt/dt = (10*mV-vt)/(15*ms) : volt\n",
    "'''\n",
    "\n",
    "reset = '''\n",
    "v = 0*mV\n",
    "vt += 3*mV\n",
    "'''\n",
    "\n",
    "IF = NeuronGroup(1, model=eqs, reset=reset, threshold='v>vt',\n",
    "                 method='exact')\n",
    "IF.vt = 10*mV\n",
    "PG = PoissonGroup(1, 500 * Hz)\n",
    "\n",
    "C = Synapses(PG, IF, on_pre='v += 3*mV')\n",
    "C.connect()\n",
    "\n",
    "Mv = StateMonitor(IF, 'v', record=True)\n",
    "Mvt = StateMonitor(IF, 'vt', record=True)\n",
    "# Record the value of v when the threshold is crossed\n",
    "M_crossings = SpikeMonitor(IF, variables='v')\n",
    "\n",
    "net = Network(IF,PG,C,Mv,Mvt)\n",
    "net.run(2*second, report='text')"
   ]
  },
  {
   "cell_type": "code",
   "execution_count": 2,
   "metadata": {},
   "outputs": [],
   "source": [
    "from brian2 import *\n",
    "\n",
    "num_neurons = 100\n",
    "duration = 2*second\n",
    "\n",
    "# Parameters\n",
    "area = 20000*umetre**2\n",
    "Cm = 1*ufarad*cm**-2 * area\n",
    "gl = 5e-5*siemens*cm**-2 * area\n",
    "El = -65*mV\n",
    "EK = -90*mV\n",
    "ENa = 50*mV\n",
    "g_na = 100*msiemens*cm**-2 * area\n",
    "g_kd = 30*msiemens*cm**-2 * area\n",
    "VT = -63*mV\n",
    "\n",
    "# The model\n",
    "eqs = Equations('''\n",
    "dv/dt = (gl*(El-v) - g_na*(m*m*m)*h*(v-ENa) - g_kd*(n*n*n*n)*(v-EK) + I)/Cm : volt\n",
    "dm/dt = 0.32*(mV**-1)*(13.*mV-v+VT)/\n",
    "    (exp((13.*mV-v+VT)/(4.*mV))-1.)/ms*(1-m)-0.28*(mV**-1)*(v-VT-40.*mV)/\n",
    "    (exp((v-VT-40.*mV)/(5.*mV))-1.)/ms*m : 1\n",
    "dn/dt = 0.032*(mV**-1)*(15.*mV-v+VT)/\n",
    "    (exp((15.*mV-v+VT)/(5.*mV))-1.)/ms*(1.-n)-.5*exp((10.*mV-v+VT)/(40.*mV))/ms*n : 1\n",
    "dh/dt = 0.128*exp((17.*mV-v+VT)/(18.*mV))/ms*(1.-h)-4./(1+exp((40.*mV-v+VT)/(5.*mV)))/ms*h : 1\n",
    "I : amp\n",
    "''')\n",
    "# Threshold and refractoriness are only used for spike counting\n",
    "group = NeuronGroup(num_neurons, eqs,\n",
    "                    threshold='v > -40*mV',\n",
    "                    refractory='v > -40*mV',\n",
    "                    method='exponential_euler')\n",
    "group.v = El\n",
    "group.I = '0.7*nA * i / num_neurons'\n",
    "\n",
    "monitor = SpikeMonitor(group)\n",
    "\n",
    "net = Network(group, monitor)\n",
    "net.run(2*second)"
   ]
  },
  {
   "cell_type": "code",
   "execution_count": 20,
   "metadata": {},
   "outputs": [
    {
     "data": {
      "text/plain": [
       "['T',\n",
       " '__abs__',\n",
       " '__add__',\n",
       " '__and__',\n",
       " '__array__',\n",
       " '__array_finalize__',\n",
       " '__array_interface__',\n",
       " '__array_prepare__',\n",
       " '__array_priority__',\n",
       " '__array_struct__',\n",
       " '__array_ufunc__',\n",
       " '__array_wrap__',\n",
       " '__bool__',\n",
       " '__class__',\n",
       " '__complex__',\n",
       " '__contains__',\n",
       " '__copy__',\n",
       " '__deepcopy__',\n",
       " '__delattr__',\n",
       " '__delitem__',\n",
       " '__dir__',\n",
       " '__div__',\n",
       " '__divmod__',\n",
       " '__doc__',\n",
       " '__eq__',\n",
       " '__float__',\n",
       " '__floordiv__',\n",
       " '__format__',\n",
       " '__ge__',\n",
       " '__getattribute__',\n",
       " '__getitem__',\n",
       " '__getslice__',\n",
       " '__gt__',\n",
       " '__hash__',\n",
       " '__iadd__',\n",
       " '__iand__',\n",
       " '__idiv__',\n",
       " '__ifloordiv__',\n",
       " '__ilshift__',\n",
       " '__imatmul__',\n",
       " '__imod__',\n",
       " '__imul__',\n",
       " '__index__',\n",
       " '__init__',\n",
       " '__init_subclass__',\n",
       " '__int__',\n",
       " '__invert__',\n",
       " '__ior__',\n",
       " '__ipow__',\n",
       " '__irshift__',\n",
       " '__isub__',\n",
       " '__iter__',\n",
       " '__itruediv__',\n",
       " '__ixor__',\n",
       " '__le__',\n",
       " '__len__',\n",
       " '__lshift__',\n",
       " '__lt__',\n",
       " '__matmul__',\n",
       " '__mod__',\n",
       " '__module__',\n",
       " '__mul__',\n",
       " '__ne__',\n",
       " '__neg__',\n",
       " '__new__',\n",
       " '__or__',\n",
       " '__pos__',\n",
       " '__pow__',\n",
       " '__radd__',\n",
       " '__rand__',\n",
       " '__rdiv__',\n",
       " '__rdivmod__',\n",
       " '__reduce__',\n",
       " '__reduce_ex__',\n",
       " '__repr__',\n",
       " '__rfloordiv__',\n",
       " '__rlshift__',\n",
       " '__rmatmul__',\n",
       " '__rmod__',\n",
       " '__rmul__',\n",
       " '__ror__',\n",
       " '__rpow__',\n",
       " '__rrshift__',\n",
       " '__rshift__',\n",
       " '__rsub__',\n",
       " '__rtruediv__',\n",
       " '__rxor__',\n",
       " '__setattr__',\n",
       " '__setitem__',\n",
       " '__setslice__',\n",
       " '__setstate__',\n",
       " '__sizeof__',\n",
       " '__slots__',\n",
       " '__str__',\n",
       " '__sub__',\n",
       " '__subclasshook__',\n",
       " '__truediv__',\n",
       " '__xor__',\n",
       " '_binary_operation',\n",
       " '_comparison',\n",
       " '_get_best_unit',\n",
       " '_latex',\n",
       " '_repr_latex_',\n",
       " 'all',\n",
       " 'any',\n",
       " 'argmax',\n",
       " 'argmin',\n",
       " 'argpartition',\n",
       " 'argsort',\n",
       " 'astype',\n",
       " 'base',\n",
       " 'byteswap',\n",
       " 'choose',\n",
       " 'clip',\n",
       " 'compress',\n",
       " 'conj',\n",
       " 'conjugate',\n",
       " 'copy',\n",
       " 'ctypes',\n",
       " 'cumprod',\n",
       " 'cumsum',\n",
       " 'data',\n",
       " 'diagonal',\n",
       " 'dim',\n",
       " 'dimensions',\n",
       " 'dot',\n",
       " 'dtype',\n",
       " 'dump',\n",
       " 'dumps',\n",
       " 'fill',\n",
       " 'flags',\n",
       " 'flat',\n",
       " 'flatten',\n",
       " 'get_best_unit',\n",
       " 'getfield',\n",
       " 'has_same_dimensions',\n",
       " 'imag',\n",
       " 'in_best_unit',\n",
       " 'in_unit',\n",
       " 'is_dimensionless',\n",
       " 'item',\n",
       " 'itemset',\n",
       " 'itemsize',\n",
       " 'matplotlib',\n",
       " 'max',\n",
       " 'mean',\n",
       " 'min',\n",
       " 'nbytes',\n",
       " 'ndim',\n",
       " 'newbyteorder',\n",
       " 'nonzero',\n",
       " 'partition',\n",
       " 'prod',\n",
       " 'ptp',\n",
       " 'put',\n",
       " 'ravel',\n",
       " 'real',\n",
       " 'repeat',\n",
       " 'reshape',\n",
       " 'resize',\n",
       " 'round',\n",
       " 'searchsorted',\n",
       " 'setfield',\n",
       " 'setflags',\n",
       " 'shape',\n",
       " 'size',\n",
       " 'sort',\n",
       " 'squeeze',\n",
       " 'std',\n",
       " 'strides',\n",
       " 'sum',\n",
       " 'swapaxes',\n",
       " 'take',\n",
       " 'tobytes',\n",
       " 'tofile',\n",
       " 'tolist',\n",
       " 'tostring',\n",
       " 'trace',\n",
       " 'transpose',\n",
       " 'use_matplotlib_units_fix',\n",
       " 'var',\n",
       " 'view',\n",
       " 'with_dimensions']"
      ]
     },
     "execution_count": 20,
     "metadata": {},
     "output_type": "execute_result"
    }
   ],
   "source": [
    "dir(neurons._refractory)"
   ]
  },
  {
   "cell_type": "code",
   "execution_count": 1,
   "metadata": {},
   "outputs": [
    {
     "name": "stdout",
     "output_type": "stream",
     "text": [
      "\n"
     ]
    }
   ],
   "source": [
    "from brian2 import *\n",
    "\n",
    "G1 = NeuronGroup(10, 'dv/dt = -v / (10*ms) : 1',\n",
    "                 threshold='v > 1', reset='v=0.', method='exact')\n",
    "G1.v = 1.2\n",
    "G2 = NeuronGroup(10, 'dv/dt = -v / (10*ms) : 1',\n",
    "                 threshold='v > 1', reset='v=0', method='exact')\n",
    "\n",
    "syn = Synapses(G1, G2, 'dw/dt = -w / (50*ms): 1 (event-driven)', on_pre='v += w')\n",
    "print(syn.equations)\n",
    "syn.connect('i == j', p=0.75)\n",
    "\n",
    "# Set the delays\n",
    "syn.delay = '1*ms + i*ms + 0.25*ms * randn()'\n",
    "# Set the initial values of the synaptic variable\n",
    "syn.w = 1\n",
    "\n",
    "mon = StateMonitor(G2, 'v', record=True)\n",
    "\n",
    "\n",
    "net2 = Network(syn, G1, G2, mon)\n",
    "net2.run(20*ms)\n",
    "\n",
    "# plot(mon.t/ms, mon.v.T)\n",
    "# xlabel('Time (ms)')\n",
    "# ylabel('v')\n",
    "\n"
   ]
  },
  {
   "cell_type": "code",
   "execution_count": 1,
   "metadata": {},
   "outputs": [
    {
     "name": "stderr",
     "output_type": "stream",
     "text": [
      "INFO       No numerical integration method specified for group 'neurongroup_1', using method 'exact' (took 0.10s). [brian2.stateupdaters.base.method_choice]\n",
      "INFO       No numerical integration method specified for group 'neurongroup', using method 'exact' (took 0.35s). [brian2.stateupdaters.base.method_choice]\n"
     ]
    }
   ],
   "source": [
    "from brian2 import *\n",
    "# Input Poisson spikes\n",
    "inp = PoissonGroup(1, rates=250*Hz)\n",
    "# First group G\n",
    "eqs_G = '''\n",
    "dv/dt = (g-v)/(50*ms) : 1\n",
    "dg/dt = -g/(10*ms) : 1\n",
    "allow_gspike : boolean\n",
    "'''\n",
    "G = NeuronGroup(1, eqs_G, threshold='v>1',\n",
    "                reset='v = 0; g = 0; allow_gspike = True;',\n",
    "                events={'gspike': 'g>1 and allow_gspike',\n",
    "                        'end_gspike': 'g<1 and not allow_gspike'})\n",
    "G.run_on_event('gspike', 'allow_gspike = False')\n",
    "G.run_on_event('end_gspike', 'allow_gspike = True')\n",
    "# Second group H\n",
    "eqs_H = '''\n",
    "dx/dt = -x/(10*ms) : 1\n",
    "dy/dt = -y/(10*ms) : 1\n",
    "'''\n",
    "H = NeuronGroup(1, eqs_H)\n",
    "# Synapses from input Poisson group to G\n",
    "Sin = Synapses(inp, G, on_pre='g += 0.5')\n",
    "Sin.connect()\n",
    "# Synapses from G to H\n",
    "S = Synapses(G, H,\n",
    "             on_pre={'pre': 'x += 1',\n",
    "                     'gpath': 'y += 1'},\n",
    "             on_event={'pre': 'spike',\n",
    "                       'gpath': 'gspike'})\n",
    "S.connect()\n",
    "\n",
    "Mstate_v = StateMonitor(G, 'v', record=True)\n",
    "Mstate_g = StateMonitor(G, 'g', record=True)\n",
    "Mgspike = EventMonitor(G, 'gspike', 'g')\n",
    "Mspike = SpikeMonitor(G, 'v')\n",
    "MHstate_x = StateMonitor(H, 'x', record=True)\n",
    "MHstate_y = StateMonitor(H, 'y', record=True)\n",
    "\n",
    "# Mstate = StateMonitor(G, ('v', 'g'), record=True)\n",
    "# Mgspike = EventMonitor(G, 'gspike', 'g')\n",
    "# Mspike = SpikeMonitor(G, 'v')\n",
    "# MHstate = StateMonitor(H, ('x', 'y'), record=True)\n",
    "\n",
    "\n",
    "\n",
    "\n",
    "# Initialise and run\n",
    "G.allow_gspike = True\n",
    "\n",
    "net3 = Network( G, inp, H, Sin, S, Mstate_v, Mstate_g, Mgspike, Mspike, MHstate_x,MHstate_y)\n",
    "# net3 = Network( G, inp, H, Sin, S, Mstate, Mgspike, Mspike, MHstate)\n",
    "net3.run(500*ms)"
   ]
  },
  {
   "cell_type": "code",
   "execution_count": 30,
   "metadata": {},
   "outputs": [
    {
     "data": {
      "text/plain": [
       "tuple"
      ]
     },
     "execution_count": 30,
     "metadata": {},
     "output_type": "execute_result"
    }
   ],
   "source": [
    "type(H.method_choice)"
   ]
  },
  {
   "cell_type": "code",
   "execution_count": 1,
   "metadata": {},
   "outputs": [],
   "source": [
    "from brian2 import *\n",
    "################################################################################\n",
    "# PLASTICITY MODEL\n",
    "################################################################################\n",
    "\n",
    "#### Plasticity Parameters\n",
    "\n",
    "V_rest = -70.*mV        # resting potential\n",
    "V_thresh = -50.*mV      # spiking threshold\n",
    "Theta_low = V_rest      # depolarization threshold for plasticity\n",
    "x_reset = 1.            # spike trace reset value\n",
    "taux = 15.*ms           # spike trace time constant\n",
    "A_LTD = 1.5e-4          # depression amplitude\n",
    "A_LTP = 1.5e-2          # potentiation amplitude\n",
    "tau_lowpass1 = 40*ms    # timeconstant for low-pass filtered voltage\n",
    "tau_lowpass2 = 30*ms    # timeconstant for low-pass filtered voltage\n",
    "\n",
    "\n",
    "\n",
    "#### Plasticity Equations\n",
    "\n",
    "\n",
    "# equations executed at every timestep\n",
    "Syn_model = '''\n",
    "            w_ampa:1                # synaptic weight (ampa synapse)\n",
    "            '''\n",
    "\n",
    "# equations executed only when a presynaptic spike occurs\n",
    "Pre_eq = '''\n",
    "         g_ampa_post += w_ampa*ampa_max_cond                                                             # increment synaptic conductance\n",
    "         w_minus = A_LTD*(v_lowpass1_post/mV - Theta_low/mV)*int(v_lowpass1_post/mV - Theta_low/mV > 0)  # synaptic depression\n",
    "         w_ampa = clip(w_ampa-w_minus,0,w_max)                                                           # hard bounds\n",
    "         '''\n",
    "\n",
    "# equations executed only when a postsynaptic spike occurs\n",
    "Post_eq = '''\n",
    "          v_lowpass1 += 10*mV                                                                                        # mimics the depolarisation by a spike\n",
    "          v_lowpass2 += 10*mV                                                                                        # mimics the depolarisation by a spike\n",
    "          w_plus = A_LTP*x_trace_pre*(v_lowpass2_post/mV - Theta_low/mV)*int(v_lowpass2_post/mV - Theta_low/mV > 0)  # synaptic potentiation\n",
    "          w_ampa = clip(w_ampa+w_plus,0,w_max)                                                                       # hard bounds\n",
    "          '''\n",
    "\n",
    "################################################################################\n",
    "# I&F Parameters and equations\n",
    "################################################################################\n",
    "\n",
    "#### Neuron parameters\n",
    "\n",
    "gleak = 30.*nS                  # leak conductance\n",
    "C = 300.*pF                     # membrane capacitance\n",
    "tau_AMPA = 2.*ms                # AMPA synaptic timeconstant\n",
    "E_AMPA = 0.*mV                  # reversal potential AMPA\n",
    "\n",
    "ampa_max_cond = 5.e-10*siemens  # Ampa maximal conductance\n",
    "w_max = 1.                      # maximal ampa weight\n",
    "\n",
    "\n",
    "#### Neuron Equations\n",
    "\n",
    "eqs_neurons = '''\n",
    "dv/dt = (gleak*(V_rest-v) + I_ext + I_syn)/C: volt      # voltage\n",
    "dv_lowpass1/dt = (v-v_lowpass1)/tau_lowpass1 : volt     # low-pass filter of the voltage\n",
    "dv_lowpass2/dt = (v-v_lowpass2)/tau_lowpass2 : volt     # low-pass filter of the voltage\n",
    "I_ext : amp                                             # external current\n",
    "I_syn = g_ampa*(E_AMPA-v): amp                          # synaptic current\n",
    "dg_ampa/dt = -g_ampa/tau_AMPA : siemens                 # synaptic conductance\n",
    "dx_trace/dt = -x_trace/taux :1                          # spike trace\n",
    "'''\n",
    "\n",
    "\n",
    "\n",
    "################################################################################\n",
    "# Simulation\n",
    "################################################################################\n",
    "\n",
    "#### Parameters\n",
    "\n",
    "defaultclock.dt = 100.*us                           # timestep\n",
    "Nr_neurons = 2                                      # Number of neurons\n",
    "rate_array = [1., 5., 10., 15., 20., 30., 50.]*Hz   # Rates\n",
    "init_weight = 0.5                                   # initial synaptic weight\n",
    "reps = 15                                           # Number of pairings\n",
    "\n",
    "#### Create neuron objects\n",
    "\n",
    "Nrns = NeuronGroup(Nr_neurons, eqs_neurons, threshold='v>V_thresh',\n",
    "                   reset='v=V_rest;x_trace+=x_reset/(taux/ms)', method='euler')#\n",
    "\n",
    "#### create Synapses\n",
    "\n",
    "Syn = Synapses(Nrns, Nrns,\n",
    "               model=Syn_model,\n",
    "               on_pre=Pre_eq,\n",
    "               on_post=Post_eq\n",
    "               )\n",
    "\n",
    "Syn.connect('i!=j')\n",
    "net = Network(Nrns, Syn)\n",
    "d = {'V_rest': V_rest,\n",
    "     'V_thresh': V_thresh,\n",
    "     'Theta_low': Theta_low,\n",
    "     'x_reset': x_reset,\n",
    "     'taux': taux,\n",
    "     'A_LTD': A_LTD,\n",
    "     'A_LTP': A_LTP,\n",
    "     'tau_lowpass1': tau_lowpass1,\n",
    "     'tau_lowpass2': tau_lowpass2,\n",
    "     'gleak': gleak,\n",
    "     'C': C,\n",
    "     'tau_AMPA': tau_AMPA,\n",
    "     'E_AMPA': E_AMPA,\n",
    "     'ampa_max_cond': ampa_max_cond,\n",
    "     'w_max': w_max,\n",
    "     'defaultclock.dt': defaultclock.dt,\n",
    "     'Nr_neurons': Nr_neurons,\n",
    "     'rate_array': rate_array,\n",
    "     'init_weight': init_weight,\n",
    "     'reps': reps\n",
    "    }"
   ]
  },
  {
   "cell_type": "code",
   "execution_count": 3,
   "metadata": {},
   "outputs": [
    {
     "data": {
      "text/plain": [
       "'pre'"
      ]
     },
     "execution_count": 3,
     "metadata": {},
     "output_type": "execute_result"
    }
   ],
   "source": [
    "Syn._pathways[0].prepost"
   ]
  },
  {
   "cell_type": "code",
   "execution_count": 2,
   "metadata": {},
   "outputs": [],
   "source": [
    "from brian2docs.brian2docs import generate_tex_file, create_pdf"
   ]
  },
  {
   "cell_type": "code",
   "execution_count": 7,
   "metadata": {},
   "outputs": [
    {
     "ename": "TemplateNotFound",
     "evalue": "template.txt",
     "output_type": "error",
     "traceback": [
      "\u001b[1;31m---------------------------------------------------------------------------\u001b[0m",
      "\u001b[1;31mTemplateNotFound\u001b[0m                          Traceback (most recent call last)",
      "\u001b[1;32m<ipython-input-7-e4424b29409a>\u001b[0m in \u001b[0;36m<module>\u001b[1;34m\u001b[0m\n\u001b[1;32m----> 1\u001b[1;33m \u001b[0mgenerate_tex_file\u001b[0m\u001b[1;33m(\u001b[0m\u001b[0mnet3\u001b[0m\u001b[1;33m,\u001b[0m\u001b[1;34m'tmp/net7.tex'\u001b[0m\u001b[1;33m)\u001b[0m\u001b[1;33m\u001b[0m\u001b[0m\n\u001b[0m\u001b[0;32m      2\u001b[0m \u001b[0mcreate_pdf\u001b[0m\u001b[1;33m(\u001b[0m\u001b[1;34m'tmp/net7.tex'\u001b[0m\u001b[1;33m,\u001b[0m\u001b[1;34m'pdf/net7'\u001b[0m\u001b[1;33m)\u001b[0m\u001b[1;33m\u001b[0m\u001b[0m\n",
      "\u001b[1;32mD:\\Programs\\Anaconda\\lib\\site-packages\\brian2docs\\brian2docs.py\u001b[0m in \u001b[0;36mgenerate_tex_file\u001b[1;34m(net, outputFile)\u001b[0m\n\u001b[0;32m    165\u001b[0m     \u001b[0mfile_loader\u001b[0m \u001b[1;33m=\u001b[0m \u001b[0mFileSystemLoader\u001b[0m\u001b[1;33m(\u001b[0m\u001b[1;34m'templates'\u001b[0m\u001b[1;33m)\u001b[0m\u001b[1;33m\u001b[0m\u001b[0m\n\u001b[0;32m    166\u001b[0m     \u001b[0menv\u001b[0m \u001b[1;33m=\u001b[0m \u001b[0mEnvironment\u001b[0m\u001b[1;33m(\u001b[0m\u001b[0mloader\u001b[0m\u001b[1;33m=\u001b[0m\u001b[0mfile_loader\u001b[0m\u001b[1;33m)\u001b[0m\u001b[1;33m\u001b[0m\u001b[0m\n\u001b[1;32m--> 167\u001b[1;33m     \u001b[0mtemplate\u001b[0m \u001b[1;33m=\u001b[0m \u001b[0menv\u001b[0m\u001b[1;33m.\u001b[0m\u001b[0mget_template\u001b[0m\u001b[1;33m(\u001b[0m\u001b[1;34m'template.txt'\u001b[0m\u001b[1;33m)\u001b[0m\u001b[1;33m\u001b[0m\u001b[0m\n\u001b[0m\u001b[0;32m    168\u001b[0m     \u001b[0moutput\u001b[0m \u001b[1;33m=\u001b[0m \u001b[0mtemplate\u001b[0m\u001b[1;33m.\u001b[0m\u001b[0mrender\u001b[0m\u001b[1;33m(\u001b[0m\u001b[0mnet_graph_latex_path\u001b[0m\u001b[1;33m=\u001b[0m\u001b[0mnet_graph_latex_path\u001b[0m\u001b[1;33m,\u001b[0m \u001b[0mnet_list\u001b[0m\u001b[1;33m=\u001b[0m\u001b[0mnet_list\u001b[0m\u001b[1;33m)\u001b[0m\u001b[1;33m\u001b[0m\u001b[0m\n\u001b[0;32m    169\u001b[0m \u001b[1;33m\u001b[0m\u001b[0m\n",
      "\u001b[1;32mD:\\Programs\\Anaconda\\lib\\site-packages\\jinja2\\environment.py\u001b[0m in \u001b[0;36mget_template\u001b[1;34m(self, name, parent, globals)\u001b[0m\n\u001b[0;32m    828\u001b[0m         \u001b[1;32mif\u001b[0m \u001b[0mparent\u001b[0m \u001b[1;32mis\u001b[0m \u001b[1;32mnot\u001b[0m \u001b[1;32mNone\u001b[0m\u001b[1;33m:\u001b[0m\u001b[1;33m\u001b[0m\u001b[0m\n\u001b[0;32m    829\u001b[0m             \u001b[0mname\u001b[0m \u001b[1;33m=\u001b[0m \u001b[0mself\u001b[0m\u001b[1;33m.\u001b[0m\u001b[0mjoin_path\u001b[0m\u001b[1;33m(\u001b[0m\u001b[0mname\u001b[0m\u001b[1;33m,\u001b[0m \u001b[0mparent\u001b[0m\u001b[1;33m)\u001b[0m\u001b[1;33m\u001b[0m\u001b[0m\n\u001b[1;32m--> 830\u001b[1;33m         \u001b[1;32mreturn\u001b[0m \u001b[0mself\u001b[0m\u001b[1;33m.\u001b[0m\u001b[0m_load_template\u001b[0m\u001b[1;33m(\u001b[0m\u001b[0mname\u001b[0m\u001b[1;33m,\u001b[0m \u001b[0mself\u001b[0m\u001b[1;33m.\u001b[0m\u001b[0mmake_globals\u001b[0m\u001b[1;33m(\u001b[0m\u001b[0mglobals\u001b[0m\u001b[1;33m)\u001b[0m\u001b[1;33m)\u001b[0m\u001b[1;33m\u001b[0m\u001b[0m\n\u001b[0m\u001b[0;32m    831\u001b[0m \u001b[1;33m\u001b[0m\u001b[0m\n\u001b[0;32m    832\u001b[0m     \u001b[1;33m@\u001b[0m\u001b[0minternalcode\u001b[0m\u001b[1;33m\u001b[0m\u001b[0m\n",
      "\u001b[1;32mD:\\Programs\\Anaconda\\lib\\site-packages\\jinja2\\environment.py\u001b[0m in \u001b[0;36m_load_template\u001b[1;34m(self, name, globals)\u001b[0m\n\u001b[0;32m    802\u001b[0m                                          template.is_up_to_date):\n\u001b[0;32m    803\u001b[0m                 \u001b[1;32mreturn\u001b[0m \u001b[0mtemplate\u001b[0m\u001b[1;33m\u001b[0m\u001b[0m\n\u001b[1;32m--> 804\u001b[1;33m         \u001b[0mtemplate\u001b[0m \u001b[1;33m=\u001b[0m \u001b[0mself\u001b[0m\u001b[1;33m.\u001b[0m\u001b[0mloader\u001b[0m\u001b[1;33m.\u001b[0m\u001b[0mload\u001b[0m\u001b[1;33m(\u001b[0m\u001b[0mself\u001b[0m\u001b[1;33m,\u001b[0m \u001b[0mname\u001b[0m\u001b[1;33m,\u001b[0m \u001b[0mglobals\u001b[0m\u001b[1;33m)\u001b[0m\u001b[1;33m\u001b[0m\u001b[0m\n\u001b[0m\u001b[0;32m    805\u001b[0m         \u001b[1;32mif\u001b[0m \u001b[0mself\u001b[0m\u001b[1;33m.\u001b[0m\u001b[0mcache\u001b[0m \u001b[1;32mis\u001b[0m \u001b[1;32mnot\u001b[0m \u001b[1;32mNone\u001b[0m\u001b[1;33m:\u001b[0m\u001b[1;33m\u001b[0m\u001b[0m\n\u001b[0;32m    806\u001b[0m             \u001b[0mself\u001b[0m\u001b[1;33m.\u001b[0m\u001b[0mcache\u001b[0m\u001b[1;33m[\u001b[0m\u001b[0mcache_key\u001b[0m\u001b[1;33m]\u001b[0m \u001b[1;33m=\u001b[0m \u001b[0mtemplate\u001b[0m\u001b[1;33m\u001b[0m\u001b[0m\n",
      "\u001b[1;32mD:\\Programs\\Anaconda\\lib\\site-packages\\jinja2\\loaders.py\u001b[0m in \u001b[0;36mload\u001b[1;34m(self, environment, name, globals)\u001b[0m\n\u001b[0;32m    111\u001b[0m         \u001b[1;31m# first we try to get the source for this template together\u001b[0m\u001b[1;33m\u001b[0m\u001b[1;33m\u001b[0m\u001b[0m\n\u001b[0;32m    112\u001b[0m         \u001b[1;31m# with the filename and the uptodate function.\u001b[0m\u001b[1;33m\u001b[0m\u001b[1;33m\u001b[0m\u001b[0m\n\u001b[1;32m--> 113\u001b[1;33m         \u001b[0msource\u001b[0m\u001b[1;33m,\u001b[0m \u001b[0mfilename\u001b[0m\u001b[1;33m,\u001b[0m \u001b[0muptodate\u001b[0m \u001b[1;33m=\u001b[0m \u001b[0mself\u001b[0m\u001b[1;33m.\u001b[0m\u001b[0mget_source\u001b[0m\u001b[1;33m(\u001b[0m\u001b[0menvironment\u001b[0m\u001b[1;33m,\u001b[0m \u001b[0mname\u001b[0m\u001b[1;33m)\u001b[0m\u001b[1;33m\u001b[0m\u001b[0m\n\u001b[0m\u001b[0;32m    114\u001b[0m \u001b[1;33m\u001b[0m\u001b[0m\n\u001b[0;32m    115\u001b[0m         \u001b[1;31m# try to load the code from the bytecode cache if there is a\u001b[0m\u001b[1;33m\u001b[0m\u001b[1;33m\u001b[0m\u001b[0m\n",
      "\u001b[1;32mD:\\Programs\\Anaconda\\lib\\site-packages\\jinja2\\loaders.py\u001b[0m in \u001b[0;36mget_source\u001b[1;34m(self, environment, template)\u001b[0m\n\u001b[0;32m    185\u001b[0m                     \u001b[1;32mreturn\u001b[0m \u001b[1;32mFalse\u001b[0m\u001b[1;33m\u001b[0m\u001b[0m\n\u001b[0;32m    186\u001b[0m             \u001b[1;32mreturn\u001b[0m \u001b[0mcontents\u001b[0m\u001b[1;33m,\u001b[0m \u001b[0mfilename\u001b[0m\u001b[1;33m,\u001b[0m \u001b[0muptodate\u001b[0m\u001b[1;33m\u001b[0m\u001b[0m\n\u001b[1;32m--> 187\u001b[1;33m         \u001b[1;32mraise\u001b[0m \u001b[0mTemplateNotFound\u001b[0m\u001b[1;33m(\u001b[0m\u001b[0mtemplate\u001b[0m\u001b[1;33m)\u001b[0m\u001b[1;33m\u001b[0m\u001b[0m\n\u001b[0m\u001b[0;32m    188\u001b[0m \u001b[1;33m\u001b[0m\u001b[0m\n\u001b[0;32m    189\u001b[0m     \u001b[1;32mdef\u001b[0m \u001b[0mlist_templates\u001b[0m\u001b[1;33m(\u001b[0m\u001b[0mself\u001b[0m\u001b[1;33m)\u001b[0m\u001b[1;33m:\u001b[0m\u001b[1;33m\u001b[0m\u001b[0m\n",
      "\u001b[1;31mTemplateNotFound\u001b[0m: template.txt"
     ]
    },
    {
     "data": {
      "image/png": "[encoded data removed]",
      "text/plain": [
       "<matplotlib.figure.Figure at 0x2228f0730f0>"
      ]
     },
     "metadata": {
      "needs_background": "light"
     },
     "output_type": "display_data"
    }
   ],
   "source": [
    "generate_tex_file(net3,'tmp/net7.tex')\n",
    "create_pdf('tmp/net7.tex','pdf/net7')"
   ]
  },
  {
   "cell_type": "code",
   "execution_count": 23,
   "metadata": {},
   "outputs": [
    {
     "data": {
      "text/html": [
       "NeuronGroup \"neurongroup_2\" with 1 neurons.<br>\n",
       "<b>Model:</b><nr>\n",
       "\\begin{align*}\\frac{\\mathrm{d}v}{\\mathrm{d}t} &= \\frac{0.02 \\left(g - v\\right)}{ms} && \\text{(unit of $v$: $\\mathrm{rad}$)}\\\\\n",
       "\\frac{\\mathrm{d}g}{\\mathrm{d}t} &= - \\frac{0.1 g}{ms} && \\text{(unit of $g$: $\\mathrm{rad}$)}\\\\\n",
       "allow_{gspike} &&& \\text{(unit: $\\mathrm{rad}$)}\\end{align*}\n",
       "<b>Spiking behaviour:</b><ul style=\"list-style-type: none; margin-top: 0px;\">\n",
       "<li><i>Threshold condition: </i>\n",
       "<code>v>1</code></li>\n",
       "<li><i>Reset statement(s):</i>\n",
       "<code>v = 0; g = 0; allow_gspike = True;</code></li>\n",
       "</ul>\n",
       "<b>Event \"gspike\":</b><ul style=\"list-style-type: none; margin-top: 0px;\">\n",
       "<li><i>Event condition: </i>\n",
       "<code>g>1 and allow_gspike</code></li>\n",
       "<li><i>Executed statement(s):</i>\n",
       "<code>allow_gspike = False</code></li>\n",
       "</ul>\n",
       "<b>Event \"end_gspike\":</b><ul style=\"list-style-type: none; margin-top: 0px;\">\n",
       "<li><i>Event condition: </i>\n",
       "<code>g<1 and not allow_gspike</code></li>\n",
       "<li><i>Executed statement(s):</i>\n",
       "<code>allow_gspike = True</code></li>\n",
       "</ul>"
      ],
      "text/plain": [
       "NeuronGroup(clock=Clock(dt=100. * usecond, name='defaultclock'), when=start, order=0, name='neurongroup_2')"
      ]
     },
     "execution_count": 23,
     "metadata": {},
     "output_type": "execute_result"
    }
   ],
   "source": [
    "G"
   ]
  },
  {
   "cell_type": "code",
   "execution_count": 52,
   "metadata": {},
   "outputs": [],
   "source": [
    "import sympy\n",
    "a = syn._pathways[0].abstract_code\n",
    "l = a.split('\\n')\n",
    "l = [x.split('=') for x in l[:-1]] # exclude last element in l, because using split on '\\n', the last element in list in empty string"
   ]
  },
  {
   "cell_type": "code",
   "execution_count": 46,
   "metadata": {},
   "outputs": [
    {
     "data": {
      "text/plain": [
       "'_w = 1.0*w*exp(-0.02*(t - lastupdate)/ms)'"
      ]
     },
     "execution_count": 46,
     "metadata": {},
     "output_type": "execute_result"
    }
   ],
   "source": [
    "k = '='.join(l[0])\n",
    "k\n",
    "sympy.latex(str_to_sympy(a))"
   ]
  },
  {
   "cell_type": "code",
   "execution_count": 48,
   "metadata": {},
   "outputs": [
    {
     "name": "stdout",
     "output_type": "stream",
     "text": [
      "_w \n",
      " 1.0*w*exp(-0.02*(t - lastupdate)/ms)\n",
      "w \n",
      " _w\n",
      "v +\n",
      " w\n",
      "lastupdate \n",
      " t\n"
     ]
    },
    {
     "data": {
      "text/plain": [
       "[[None, None], [None, None], [None, None], [None, None]]"
      ]
     },
     "execution_count": 48,
     "metadata": {},
     "output_type": "execute_result"
    }
   ],
   "source": [
    "[[print(i) for i in x]   for x in l]"
   ]
  },
  {
   "cell_type": "code",
   "execution_count": 15,
   "metadata": {},
   "outputs": [
    {
     "data": {
      "text/latex": [
       "\\begin{align*}\\frac{\\mathrm{d}w}{\\mathrm{d}t} &= - \\frac{0.02 w}{ms} && \\text{(unit of $w$: $\\mathrm{rad}$, flags: event-driven)}\\end{align*}"
      ],
      "text/plain": [
       "dw/dt = -0.02*w/ms : radian (event-driven)\n"
      ]
     },
     "execution_count": 15,
     "metadata": {},
     "output_type": "execute_result"
    }
   ],
   "source": [
    "syn.event_driven"
   ]
  },
  {
   "cell_type": "code",
   "execution_count": 25,
   "metadata": {},
   "outputs": [
    {
     "data": {
      "text/latex": [
       "\\begin{align*}\\frac{\\mathrm{d}v}{\\mathrm{d}t} &= - \\frac{0.1 v}{ms} && \\text{(unit of $v$: $\\mathrm{rad}$)}\\end{align*}"
      ],
      "text/plain": [
       "dv/dt = -0.1*v/ms : radian\n"
      ]
     },
     "execution_count": 25,
     "metadata": {},
     "output_type": "execute_result"
    }
   ],
   "source": [
    "G1.equations"
   ]
  },
  {
   "cell_type": "code",
   "execution_count": 24,
   "metadata": {},
   "outputs": [
    {
     "name": "stdout",
     "output_type": "stream",
     "text": [
      "dv/dt = -v / (10*ms) : 1\n"
     ]
    }
   ],
   "source": [
    "print(G1.equations)"
   ]
  },
  {
   "cell_type": "code",
   "execution_count": 2,
   "metadata": {},
   "outputs": [],
   "source": [
    "import re\n",
    "import sympy\n",
    "import os.path\n",
    "import subprocess\n",
    "from graphviz import Digraph\n",
    "from brian2tools import brian_plot\n",
    "from matplotlib import pyplot as pp\n",
    "from brian2.parsing.sympytools import str_to_sympy\n",
    "from jinja2 import Environment, FileSystemLoader\n",
    "from brian2 import Synapses,NeuronGroup, SpatialNeuron\n",
    "from brian2.monitors import SpikeMonitor, StateMonitor, PopulationRateMonitor\n",
    "import warnings\n",
    "import matplotlib.pyplot as plt"
   ]
  },
  {
   "cell_type": "code",
   "execution_count": 3,
   "metadata": {},
   "outputs": [],
   "source": [
    "def replace_underscore(x):\n",
    "    return '\\\\texttt{'+  x.replace('_','\\\\_') + '}'"
   ]
  },
  {
   "cell_type": "code",
   "execution_count": 4,
   "metadata": {},
   "outputs": [],
   "source": [
    "def generate_SpatialNeuron_latex(NG):\n",
    "        pic_path = 'tmp/' + NG.name + '.png'\n",
    "        plt.close()\n",
    "        brian_plot(NG.morphology)\n",
    "        pp.savefig(pic_path)\n",
    "        NG_name = replace_underscore(NG.name)\n",
    "\n",
    "        return '\\\\item\\n\\\\textbf{Morphology of ' + NG_name + '}:\\\\\\\\\\n\\\\begin{center}\\n\\\\includegraphics[width=\\textwidth]{'+ pic_path + '}\\n\\\\end{center}'"
   ]
  },
  {
   "cell_type": "code",
   "execution_count": 35,
   "metadata": {},
   "outputs": [],
   "source": [
    "def generate_ng_latex(NG):\n",
    "    '''\n",
    "    NG: NeuronGroup\n",
    "    \n",
    "    generate a string containing latex format presentation of input NeuronGroup\n",
    "    '''\n",
    "    NG_name = replace_underscore(NG.name)\n",
    "    text = ['\\n\\\\section{NeuronGroup %s}\\n' % (NG_name), r'NeuronGroup \"%s\" with %d neurons.\\\\\\\\' % (NG_name, NG._N)]\n",
    "    text.append('\\\\begin{itemize}')\n",
    "    text.append('\\\\item')\n",
    "    text.append(r'\\textbf{Model:} \\\\ ')\n",
    "    text.append(sympy.latex(NG.equations))\n",
    "\n",
    "    def add_event_to_text(event):\n",
    "        if event=='spike':\n",
    "            event_header = 'Spiking\\:Behaviour'\n",
    "            event_condition = 'Threshold condition'\n",
    "            event_code = 'Reset statement(s)'\n",
    "        else:\n",
    "            event_header = 'Event %s' % replace_underscore(event)\n",
    "            event_condition = 'Event Condition'\n",
    "            event_code = 'Executed Statement(s)'\n",
    "        condition = NG.events[event]\n",
    "        text.append('\\\\textbf{%s:}\\n\\\\begin{itemize}' % event_header)\n",
    "        text.append(r'\\item \\textit{%s:}' % event_condition)\n",
    "        text.append('\\\\begin{lstlisting}\\n' + str(condition) + '\\n\\\\end{lstlisting}')\n",
    "        statements = NG.event_codes.get(event, None)\n",
    "        if statements is not None:\n",
    "            text.append(r'\\item \\textit{%s:}' % event_code)\n",
    "            #if '\\n' in str(statements):\n",
    "             #   text.append('\\\\')\n",
    "            text.append('\\\\begin{lstlisting}\\n' + str(statements) + '\\n\\\\end{lstlisting}')\n",
    "        text.append('\\end{itemize}')\n",
    "\n",
    "    if 'spike' in NG.events:\n",
    "        text.append('\\\\item\\n')\n",
    "        add_event_to_text('spike')\n",
    "    for event in NG.events:\n",
    "        if event!='spike':\n",
    "            text.append('\\\\item\\n')\n",
    "            add_event_to_text(event)\n",
    "    \n",
    "\n",
    "    text.append('\\\\item')\n",
    "    text.append('\\\\textbf{Refractory}:\\\\begin{lstlisting}')\n",
    "    if isinstance(NG._refractory, bool):\n",
    "        if NG._refractory:\n",
    "            text.append('True')\n",
    "        else:\n",
    "            text.append('False')\n",
    "    elif isinstance(NG._refractory, Quantity):    \n",
    "        text.append(NG._refractory.in_best_unit())\n",
    "        \n",
    "    else:\n",
    "        text.append(NG._refractory)\n",
    "    text.append('\\\\end{lstlisting}')\n",
    "    \n",
    "    text.append('\\\\item')\n",
    "    text.append('\\\\textbf{Numerical Integration Method}:\\\\begin{lstlisting}')\n",
    "    if isinstance(NG.method_choice, tuple):\n",
    "        for x in NG.method_choice:\n",
    "            text.append(x+' ')\n",
    "    else:\n",
    "        text.append(NG.method_choice)\n",
    "    text.append('\\\\end{lstlisting}')\n",
    "    \n",
    "    if isinstance(NG,SpatialNeuron):\n",
    "        if NG.morphology is not None:\n",
    "            text.append(generate_SpatialNeuron_latex(NG))\n",
    "    text.append('\\\\end{itemize}')\n",
    "    \n",
    "    return '\\n'.join(text)\n",
    "        "
   ]
  },
  {
   "cell_type": "code",
   "execution_count": 6,
   "metadata": {},
   "outputs": [],
   "source": [
    "def generate_network_graph(net):\n",
    "    '''\n",
    "    net: Network object in brian2\n",
    "    \n",
    "    generate a network graph\n",
    "    '''\n",
    "    g = Digraph('G', filename='synapse.gv')\n",
    "\n",
    "    for obj in net.objects:\n",
    "        if isinstance(obj, Synapses):\n",
    "            g.edge(obj.source.name, obj.target.name, label='<<b><i>'+obj.name+'</i></b>>', nodesep='1',minlen='4' )\n",
    "            g.node(obj.source.name, shape='doublecircle')\n",
    "            g.node(obj.target.name, shape='doublecircle')\n",
    "        if isinstance(obj, SpikeMonitor):\n",
    "            g.edge(obj.name, obj.source.name)\n",
    "            g.node(obj.name, shape='Msquare')\n",
    "            g.node(obj.source.name, shape='doublecircle')\n",
    "        if isinstance(obj, StateMonitor):\n",
    "            g.edge(obj.name, obj.source.name)\n",
    "            g.node(obj.name, shape='box')\n",
    "            g.node(obj.source.name, shape='doublecircle')\n",
    "            \n",
    "    path = g.render('net', 'tmp', format='png' )\n",
    "    \n",
    "    return '{'+path+'}'"
   ]
  },
  {
   "cell_type": "code",
   "execution_count": 7,
   "metadata": {},
   "outputs": [],
   "source": [
    "def generate_latex_synapse_on_pre(syn):\n",
    "    '''\n",
    "    str_on_pre = ''\n",
    "    for x in syn._pathways:\n",
    "        eq = re.compile('[+*-]?=')\n",
    "        comment = re.compile('#.*')\n",
    "\n",
    "        l = x.code.split('\\n')\n",
    "        l = [x for x in l if x] # remove empty string element in list\n",
    "        l_eq = [eq.search(x).group() for x in l]\n",
    "        l = [eq.split(x,1) if eq.search(x) else x for x in l ] # split on equal sign, plus equal etc.\n",
    "        l_rh = [comment.sub('', x[-1]) for x in l] # remove comment\n",
    "        l_lh = [x[0] for x in l]\n",
    "        l_comment = [y.group() if y else '' for y in  [comment.search(x[-1]) for x in l]] #extract a comment list\n",
    "        \n",
    "        eq_latex = ''\n",
    "        for i, _ in enumerate(l_lh):\n",
    "            eq_latex += sympy.latex(str_to_sympy(l_lh[i])) + '&' + l_eq[i] + sympy.latex(str_to_sympy(l_rh[i])) + '\\\\text{' + l_comment[i] + '}'\n",
    "        eq_latex = '\\\\begin{align}\\n' + eq_latex + '\\\\end{align}\\n'\n",
    "        str_on_pre += eq_latex\n",
    "        \n",
    "        return str_on_pre\n",
    "    '''\n",
    "    '''\n",
    "    str_pre_post = ''\n",
    "    x = syn._pathways[0] # pathways[0] contains on_pre code\n",
    "    l = x.code.split('\\n')\n",
    "    l = [i.strip() for i in l]\n",
    "    eqs_on_pre = '\\\\begin{lstlisting}[language=Python,breaklines,showstringspaces=false]\\n' + '\\n\\n'.join(l) + '\\\\end{lstlisting}\\n'\n",
    "    str_pre_post = str_pre_post + '\\n\\\\textbf{\\\\texttt{on\\\\_pre}}:\\n' + eqs_on_pre + '\\\\bigskip \\\\textbf{\\\\texttt{on\\\\_post}}:\\n'\n",
    "    \n",
    "    x = syn._pathways[1] # pathways[0] contains on_pre code\n",
    "    l = x.code.split('\\n')\n",
    "    l = [i.strip() for i in l]\n",
    "    eqs_on_post = '\\\\begin{lstlisting}[language=Python,breaklines,showstringspaces=false]\\n' + '\\n\\n'.join(l) + '\\\\end{lstlisting}\\n'\n",
    "    str_pre_post = str_pre_post + eqs_on_post\n",
    "   '''\n",
    "\n",
    "    str_pre_post = ''\n",
    "    for x in syn._pathways:\n",
    "        l = x.code.split('\\n')\n",
    "        l = [i.strip() for i in l]\n",
    "        begin_listing = '\\n\\\\begin{lstlisting}[language=Python,breaklines,showstringspaces=false]\\n'\n",
    "        eqs = begin_listing + '\\n\\n'.join(l) + '\\\\end{lstlisting}\\n'\n",
    "        if x.prepost == 'pre':\n",
    "            str_pre_post += '\\\\item\\n\\\\textbf{on pre}:\\n' + replace_underscore(x.name) + eqs\n",
    "        elif x.prepost == 'post':\n",
    "            str_pre_post += '\\\\item\\n\\\\textbf{on post}:\\n'+ replace_underscore(x.name) + eqs\n",
    "        str_pre_post += '\\\\bigskip'\n",
    "\n",
    "    return str_pre_post"
   ]
  },
  {
   "cell_type": "code",
   "execution_count": 8,
   "metadata": {},
   "outputs": [],
   "source": [
    "def generate_latex_synapse_on_event(syn):\n",
    "    str_events = []\n",
    "    if len(syn.events)>0:\n",
    "        str_events.append('\\n\\\\item\\\\textbf{on events:}')\n",
    "        str_events.append('\\n\\\\begin{lstlisting}[language=Python,breaklines,showstringspaces=false]\\n')\n",
    "        for k,v in syn.events.items():\n",
    "            str_events.append(k+': ')\n",
    "            str_events.append(v+'\\n')\n",
    "        str_events.append('\\\\end{lstlisting}')\n",
    "    return ''.join(str_events)"
   ]
  },
  {
   "cell_type": "code",
   "execution_count": 9,
   "metadata": {},
   "outputs": [],
   "source": [
    "def plot_synapse(syn):\n",
    "        pic_path = 'tmp/' + syn.name + '.png'\n",
    "        plt.close()\n",
    "        brian_plot(syn)\n",
    "        pp.savefig(pic_path)\n",
    "        NG_name = replace_underscore(syn.name)\n",
    "\n",
    "        return '\\n\\\\item\\n\\\\textbf{graph of ' + NG_name + ':}\\\\\\\\\\n\\\\begin{center}\\n\\\\includegraphics[width=\\textwidth]{'+ pic_path + '}\\n\\\\end{center}'"
   ]
  },
  {
   "cell_type": "code",
   "execution_count": 10,
   "metadata": {},
   "outputs": [],
   "source": [
    "def generate_syn_latex(syn):\n",
    "    '''\n",
    "    write the Synapses latex code into file.\n",
    "    '''\n",
    "    syn_name = '\\\\section{Synapse' + replace_underscore(syn.name) + '}'\n",
    "    syn_string = []\n",
    "    \n",
    "    syn_string.append(syn_name)\n",
    "    syn_string.append('\\n\\\\begin{itemize}')\n",
    "#     syn_string.append('This is a Synapse group with following attributes:\\\\\\\\')\n",
    "    if len(syn.equations) != 0:\n",
    "        syn_string.append('\\n\\\\item\\\\textbf{Model:}\\n')\n",
    "        syn_string.append(sympy.latex(syn.equations))\n",
    "    syn_string.append(generate_latex_synapse_on_pre(syn))\n",
    "    syn_string.append(generate_latex_synapse_on_event(syn))\n",
    "    syn_string.append(plot_synapse(syn))\n",
    "    syn_string.append('\\n\\\\end{itemize}')\n",
    "    \n",
    "    return ''.join(syn_string)"
   ]
  },
  {
   "cell_type": "code",
   "execution_count": 11,
   "metadata": {},
   "outputs": [],
   "source": [
    "def generate_state_mon_latex(mon):\n",
    "    '''\n",
    "    write StateMonitor and SpikeMonitor group into file\n",
    "    '''\n",
    "    \n",
    "    if len(mon.record_variables) != 1:\n",
    "        warnings.warn('''brian_plot only works for a StateMonitor that records a single variable. \n",
    "                         So brian_docs will ignore StateMonitors which record more than one variables. \n",
    "                         For documentation of those StateMonitors, it is suggested to put those \n",
    "                         variables in different StateMonitors, and ensure that each StateMonitor\n",
    "                         only has one variable''')\n",
    "        return ''\n",
    "    else:\n",
    "        pic_path = 'tmp/' + mon.name + '.png'\n",
    "        plt.close()\n",
    "        brian_plot(mon)\n",
    "        pp.savefig(pic_path)\n",
    "        mon_name = replace_underscore(mon.name)\n",
    "\n",
    "        return '\\n\\n\\\\section{StateMonitor ' + mon_name + '}:\\\\\\\\\\n\\\\begin{center}\\n\\\\includegraphics[width=\\textwidth]{'+ pic_path + '}\\n\\\\end{center}'\n",
    "    "
   ]
  },
  {
   "cell_type": "code",
   "execution_count": 12,
   "metadata": {},
   "outputs": [],
   "source": [
    "def generate_spike_mon_latex(mon):\n",
    "    '''\n",
    "    write StateMonitor and SpikeMonitor group into file\n",
    "    '''\n",
    "    pic_path = 'tmp/' + mon.name + '.png'\n",
    "    plt.close()\n",
    "    brian_plot(mon)\n",
    "    pp.savefig(pic_path)\n",
    "    mon_name = replace_underscore(mon.name)\n",
    "\n",
    "    return '\\n\\n\\\\section{SpikeMonitor ' + mon_name + '}:\\\\\\\\\\n\\\\begin{center}\\n\\\\includegraphics[width=\\textwidth]{'+ pic_path + '}\\n\\\\end{center}'\n",
    "    "
   ]
  },
  {
   "cell_type": "code",
   "execution_count": 13,
   "metadata": {},
   "outputs": [],
   "source": [
    "def generate_constant_list(constant_dict):\n",
    "    if not constant_dict:\n",
    "        return ['No\\\\;Constant\\\\;Is\\\\;Documented']\n",
    "    else:\n",
    "        constant_list = []\n",
    "        for key, value in d.items():\n",
    "            if key.count('_')<1:\n",
    "                key_str = key\n",
    "            elif key.count('_')==1:\n",
    "                l = key.split('_')\n",
    "                key_str = l[0]+'_{' + l[1] + '}'\n",
    "            else:\n",
    "                key_str = '\\\\textit{' + replace_underscore(key)\n",
    "\n",
    "            if isinstance(value, Quantity):\n",
    "                constant_list.append(key_str+':'+ value.in_best_unit(python_code=True))\n",
    "            else:\n",
    "                constant_list.append(key_str+':'+str(value))\n",
    "\n",
    "        return constant_list"
   ]
  },
  {
   "cell_type": "code",
   "execution_count": 19,
   "metadata": {},
   "outputs": [],
   "source": [
    "def generate_tex_file(net, outputFile, constant_dict=None):\n",
    "    file = open(outputFile,'w')\n",
    "    net_graph_path = generate_network_graph(net)\n",
    "    net_graph_latex_path = net_graph_path.replace('\\\\','/')\n",
    "    \n",
    "    net_list=[]\n",
    "    for obj in net.objects:\n",
    "        if isinstance(obj, NeuronGroup):\n",
    "            net_list.append(generate_ng_latex(obj))\n",
    "        if isinstance(obj, Synapses):\n",
    "            net_list.append(generate_syn_latex(obj))\n",
    "        if isinstance(obj, StateMonitor):\n",
    "            net_list.append(generate_state_mon_latex(obj))\n",
    "        if isinstance(obj, SpikeMonitor):\n",
    "            net_list.append(generate_spike_mon_latex(obj))\n",
    "    if constant_dict != None:\n",
    "        constant_list = generate_constant_list(constant_dict)\n",
    "    else:\n",
    "        constant_list = ['No\\\\;Constant\\\\;Is\\\\;Documented']\n",
    "    \n",
    "    file_loader = FileSystemLoader('templates')\n",
    "    env = Environment(loader=file_loader)\n",
    "    template = env.get_template('template.txt')\n",
    "    output = template.render(net_graph_latex_path=net_graph_latex_path, net_list=net_list, constant_list = constant_list)\n",
    "    \n",
    "    file.write(output)\n",
    "    file.close()"
   ]
  },
  {
   "cell_type": "code",
   "execution_count": 15,
   "metadata": {},
   "outputs": [],
   "source": [
    "def create_pdf(input_filename, output_filename):\n",
    "    process = subprocess.Popen([\n",
    "        'latex',   # Or maybe 'C:\\\\Program Files\\\\MikTex\\\\miktex\\\\bin\\\\latex.exe\n",
    "        '-output-format=pdf',\n",
    "        '-job-name=' + output_filename,\n",
    "        input_filename])\n",
    "    process.wait()"
   ]
  },
  {
   "cell_type": "code",
   "execution_count": 36,
   "metadata": {},
   "outputs": [
    {
     "data": {
      "image/png": "[encoded data removed]",
      "text/plain": [
       "<matplotlib.figure.Figure at 0x293bb1a1eb8>"
      ]
     },
     "metadata": {
      "needs_background": "light"
     },
     "output_type": "display_data"
    }
   ],
   "source": [
    "generate_tex_file(net3,'tmp/net3.tex')\n",
    "create_pdf('tmp/net3.tex','pdf/net3')"
   ]
  }
 ],
 "metadata": {
  "kernelspec": {
   "display_name": "Python 3",
   "language": "python",
   "name": "python3"
  },
  "language_info": {
   "codemirror_mode": {
    "name": "ipython",
    "version": 3
   },
   "file_extension": ".py",
   "mimetype": "text/x-python",
   "name": "python",
   "nbconvert_exporter": "python",
   "pygments_lexer": "ipython3",
   "version": "3.6.6"
  }
 },
 "nbformat": 4,
 "nbformat_minor": 2
}
